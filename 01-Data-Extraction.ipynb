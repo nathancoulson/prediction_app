{
 "cells": [
  {
   "cell_type": "code",
   "execution_count": 1,
   "metadata": {},
   "outputs": [],
   "source": [
    "import pandas as pd\n",
    "import os\n",
    "import re\n",
    "import numpy as np\n",
    "from os import listdir\n",
    "from os.path import isfile, join\n",
    "import datetime"
   ]
  },
  {
   "cell_type": "code",
   "execution_count": 2,
   "metadata": {},
   "outputs": [],
   "source": [
    "# Data extraction pipeline\n",
    "\n",
    "def format_datetime(datetime):\n",
    "    # Bad hardcoded solution! Generalise later if needed\n",
    "    \n",
    "    day = datetime[1:3]\n",
    "    month = \"09\"\n",
    "    year = \"2019\"\n",
    "    time = datetime.split(':', 1)[1]\n",
    "    \n",
    "    formatted = year + \"-\" + month + \"-\" + day + \" \" + time\n",
    "    \n",
    "    return formatted\n",
    "\n",
    "def clean_log(log, con_dict):\n",
    "    log_dict = dict()\n",
    "    bits = log.split()\n",
    "    \n",
    "    formatted = format_datetime(re.sub('[\"'']', '',bits[-8]))\n",
    "\n",
    "    log_dict = {\n",
    "        \"resp_time\": re.sub('[\"'']', '',bits[-1]),\n",
    "        \"bytes_sent\": re.sub('[\"'']', '',bits[-2]),\n",
    "        \"resp_code\": re.sub('[\"'']', '',bits[-3]),\n",
    "        \"url\": re.sub('[\"'']', '',bits[-5]),\n",
    "        \"datetime\": formatted\n",
    "    }\n",
    "    \n",
    "    event_dict = {**log_dict, **con_dict}\n",
    "    \n",
    "    return event_dict\n",
    "\n",
    "def clean_error(error, con_dict):\n",
    "    error_dict = dict()\n",
    "    bits = error.split()\n",
    "    \n",
    "    error_dict = {\n",
    "        \"resp_time\": np.nan,\n",
    "        \"bytes_sent\": np.nan,\n",
    "        \"resp_code\": re.sub('[(:]', '',bits[10]),\n",
    "        \"url\": re.sub('[\"'']', '',bits[-6]),\n",
    "        \"datetime\": re.sub('[/]', '-',bits[2]) + \" \" + bits[3]\n",
    "    }\n",
    "    \n",
    "    event_dict = {**error_dict, **con_dict}\n",
    "    \n",
    "    return event_dict\n",
    "\n",
    "def extract_con_info(filename):\n",
    "    con_dict = dict()\n",
    "    con_string = filename.split('4C', 1)[1].split('.', 1)[0]\n",
    "    container_list = con_string.split('X')\n",
    "    \n",
    "    con_dict = {\n",
    "        \"app_1_containers\": int(container_list[0].split('-')[1]),\n",
    "        \"app_2_containers\": int(container_list[1].split('-')[1]),\n",
    "        \"app_3_containers\": int(container_list[2].split('-')[1]),\n",
    "        \"app_4_containers\": int(container_list[3].split('-')[1])\n",
    "    }\n",
    "    \n",
    "    return con_dict\n",
    "\n",
    "def generate_log_df(log_files_path):\n",
    "    all_logs = list()\n",
    "\n",
    "    files = [f for f in listdir(mypath) if isfile(join(mypath, f)) and \"logs\" in f]\n",
    "\n",
    "    files.sort()\n",
    "\n",
    "    for file in files:\n",
    "        # Extract container information from filename\n",
    "        container_dict = extract_con_info(file)\n",
    "\n",
    "        with open((mypath+\"{}\").format(file), \"r\") as f:\n",
    "            line = f.readline()\n",
    "            while line:\n",
    "                line = f.readline()\n",
    "                if len(line.split()) == 13:\n",
    "                    all_logs.append(clean_log(line, container_dict))\n",
    "                elif len(line.split()) == 32:\n",
    "                    all_logs.append(clean_error(line, container_dict))\n",
    "            print(file + \" done!\")   \n",
    "\n",
    "    logs_df = pd.DataFrame(all_logs)\n",
    "    \n",
    "    return logs_df\n",
    "    "
   ]
  },
  {
   "cell_type": "code",
   "execution_count": 15,
   "metadata": {},
   "outputs": [],
   "source": [
    "mypath = \"./Auto-scaling-results/final_ex/ex-46/\""
   ]
  },
  {
   "cell_type": "code",
   "execution_count": 16,
   "metadata": {},
   "outputs": [
    {
     "name": "stdout",
     "output_type": "stream",
     "text": [
      "A-logs-24-09-19-0bias4C1-3X2-3X3-3X4-6.log done!\n"
     ]
    }
   ],
   "source": [
    "log_test_df = generate_log_df(mypath)"
   ]
  },
  {
   "cell_type": "code",
   "execution_count": 17,
   "metadata": {},
   "outputs": [],
   "source": [
    "save_path = './Auto-scaling-results/final_ex/ex-46/'"
   ]
  },
  {
   "cell_type": "code",
   "execution_count": 18,
   "metadata": {},
   "outputs": [],
   "source": [
    "log_test_df.to_parquet(save_path + 'ex-46.parquet')"
   ]
  },
  {
   "cell_type": "code",
   "execution_count": null,
   "metadata": {},
   "outputs": [],
   "source": []
  }
 ],
 "metadata": {
  "kernelspec": {
   "display_name": ".micro",
   "language": "python",
   "name": ".micro"
  },
  "language_info": {
   "codemirror_mode": {
    "name": "ipython",
    "version": 3
   },
   "file_extension": ".py",
   "mimetype": "text/x-python",
   "name": "python",
   "nbconvert_exporter": "python",
   "pygments_lexer": "ipython3",
   "version": "3.7.4"
  }
 },
 "nbformat": 4,
 "nbformat_minor": 4
}
