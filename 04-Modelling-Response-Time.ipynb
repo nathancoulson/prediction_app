{
 "cells": [
  {
   "cell_type": "code",
   "execution_count": 1,
   "metadata": {},
   "outputs": [],
   "source": [
    "import pandas as pd\n",
    "import os\n",
    "import sys\n",
    "import numpy as np\n",
    "import matplotlib.pyplot as plt\n",
    "import re\n",
    "import datetime\n",
    "import json\n",
    "import pickle\n",
    "\n",
    "from sklearn.model_selection import GridSearchCV\n",
    "from sklearn.model_selection import train_test_split\n",
    "from sklearn.pipeline import Pipeline\n",
    "\n",
    "from sklearn.linear_model import LinearRegression\n",
    "from sklearn.linear_model import Ridge\n",
    "from sklearn.linear_model import Lasso\n",
    "from sklearn.linear_model import ElasticNet\n",
    "from sklearn.ensemble import RandomForestRegressor\n",
    "from sklearn.neighbors import KNeighborsRegressor\n",
    "from sklearn.ensemble import GradientBoostingRegressor\n",
    "\n",
    "from sklearn.metrics import mean_absolute_error \n",
    "from sklearn.metrics import mean_squared_error\n",
    "\n",
    "pd.set_option('display.max_columns', 999)\n",
    "pd.set_option('display.max_rows', 500)"
   ]
  },
  {
   "cell_type": "code",
   "execution_count": 2,
   "metadata": {},
   "outputs": [],
   "source": [
    "path = \"./Datasets/\""
   ]
  },
  {
   "cell_type": "code",
   "execution_count": 3,
   "metadata": {},
   "outputs": [],
   "source": [
    "# Extract and prepare data\n",
    "\n",
    "resp_df = pd.read_parquet(path + \"resp_df.parquet\")\n",
    "\n",
    "y = resp_df.av_rolling_resp_time_250\n",
    "\n",
    "X = resp_df.drop(columns=[\"av_rolling_resp_time_250\"])\n",
    "\n",
    "X_train, X_test, y_train, y_test = train_test_split(X, y, test_size=0.30, random_state=42)\n",
    "\n",
    "X_train = np.ascontiguousarray(X_train)\n",
    "y_train = np.ascontiguousarray(y_train)\n",
    "\n",
    "X_test = np.ascontiguousarray(X_test)\n",
    "y_test = np.ascontiguousarray(y_test)"
   ]
  },
  {
   "cell_type": "code",
   "execution_count": 4,
   "metadata": {},
   "outputs": [
    {
     "data": {
      "text/plain": [
       "array([0.5       , 1.        , 0.2       , 1.        , 0.05      ,\n",
       "       0.0952381 , 0.22222222, 0.15      , 0.25      , 0.05555556,\n",
       "       0.05555556, 0.        , 0.05      , 0.125     , 0.        ,\n",
       "       0.        , 0.05555556, 0.05263158, 0.        , 0.2       ,\n",
       "       0.16666667, 0.19047619, 0.11111111, 0.        , 0.11764706,\n",
       "       0.05555556, 0.0625    , 0.11764706, 0.05555556, 0.23529412,\n",
       "       0.        , 0.05555556, 0.11764706, 0.04347826, 0.27777778,\n",
       "       0.        , 0.09090909, 0.11764706, 0.22222222, 0.0625    ,\n",
       "       0.        , 0.125     , 0.05882353, 0.26666667, 0.05263158,\n",
       "       0.        , 0.17391304, 0.13333333, 0.05882353, 0.25      ,\n",
       "       0.03846154, 0.16666667, 0.0625    , 0.        , 0.04761905,\n",
       "       0.        , 0.0625    , 0.0625    , 0.05882353, 0.10526316,\n",
       "       0.375     , 0.1       , 0.25      , 0.13043478, 0.05      ,\n",
       "       0.17647059, 0.        , 0.13333333, 0.25      , 0.        ,\n",
       "       0.11764706, 0.11111111, 0.0625    , 0.1875    , 0.14285714,\n",
       "       0.05555556, 0.3125    , 0.11764706, 0.        , 0.11111111,\n",
       "       0.125     , 0.125     , 0.        , 0.05882353, 0.1875    ,\n",
       "       0.11764706, 0.375     , 0.        , 0.        , 0.05263158,\n",
       "       0.05263158, 0.17647059, 0.10526316, 0.11111111, 0.05882353,\n",
       "       0.19047619, 0.13333333, 0.05882353, 0.11764706, 0.1875    ,\n",
       "       0.0625    , 0.125     , 0.0952381 , 0.        , 0.07142857,\n",
       "       0.05882353, 0.23529412, 0.26666667, 0.        , 0.11764706,\n",
       "       0.23529412, 0.05882353, 0.        , 0.        , 0.0625    ,\n",
       "       0.1875    , 0.33333333, 0.        , 0.29411765, 0.0625    ,\n",
       "       0.29411765, 0.05882353, 0.05      , 0.4       , 0.        ,\n",
       "       0.06666667, 0.125     , 0.33333333, 0.11111111, 0.17647059,\n",
       "       0.05263158, 0.16666667, 0.11111111])"
      ]
     },
     "execution_count": 4,
     "metadata": {},
     "output_type": "execute_result"
    }
   ],
   "source": [
    "X_train[0]"
   ]
  },
  {
   "cell_type": "code",
   "execution_count": 5,
   "metadata": {},
   "outputs": [
    {
     "data": {
      "text/plain": [
       "(2974918, 133)"
      ]
     },
     "execution_count": 5,
     "metadata": {},
     "output_type": "execute_result"
    }
   ],
   "source": [
    "X_train.shape"
   ]
  },
  {
   "cell_type": "code",
   "execution_count": 10,
   "metadata": {},
   "outputs": [
    {
     "name": "stdout",
     "output_type": "stream",
     "text": [
      "[3.70818597e-02 1.23920906e-01 2.94673355e-01 5.72380492e-02\n",
      " 2.05085804e-04 1.48241052e-04 1.45755789e-05 1.68148639e-03\n",
      " 4.18791980e-04 7.68001932e-04 3.14455965e-04 4.76376790e-04\n",
      " 8.42445310e-04 3.40887843e-04 8.78524744e-04 8.66071992e-04\n",
      " 9.18656527e-05 9.18710244e-05 1.29323661e-03 1.42433388e-03\n",
      " 1.42346779e-04 3.36256145e-02 1.45349984e-03 1.09461619e-03\n",
      " 4.98357558e-05 3.47126935e-04 8.48574502e-05 2.53983761e-05\n",
      " 3.62868629e-05 9.28796425e-04 4.29608170e-04 5.78591410e-04\n",
      " 8.43944519e-04 7.90896198e-04 8.53230217e-05 3.73332693e-04\n",
      " 5.17529843e-05 1.63204939e-04 9.25962977e-05 3.70278783e-05\n",
      " 1.72064815e-04 8.63702456e-05 5.90125447e-05 4.61577771e-04\n",
      " 1.87392233e-02 3.79801011e-05 1.34517440e-02 1.12635708e-03\n",
      " 5.98737669e-05 1.05515980e-03 9.34317959e-04 4.60509825e-04\n",
      " 7.96357248e-05 8.91686239e-04 3.06458131e-03 6.79716500e-05\n",
      " 3.62355142e-04 4.17772269e-04 1.70607867e-04 1.11118639e-02\n",
      " 2.35365006e-04 6.14643296e-02 2.62666175e-04 2.13297759e-02\n",
      " 2.71320896e-02 7.26694546e-05 1.00301412e-02 4.92438641e-04\n",
      " 1.16944313e-04 4.32863496e-04 1.97447969e-04 1.43971866e-02\n",
      " 1.80386623e-04 2.11549446e-05 1.40503246e-02 3.62800027e-05\n",
      " 1.22752599e-04 3.03535555e-04 2.98819514e-03 2.01938450e-04\n",
      " 9.09203057e-05 2.39765491e-04 5.90226733e-05 1.37923352e-04\n",
      " 2.06779701e-04 9.19278551e-06 7.78719081e-06 1.32007007e-04\n",
      " 4.63503434e-05 5.87859836e-05 1.38245388e-04 7.13748940e-04\n",
      " 3.05056329e-02 4.08887352e-04 1.84560021e-03 9.72016336e-05\n",
      " 1.96106305e-03 1.25644909e-03 7.58974550e-04 3.08760674e-04\n",
      " 1.06072816e-03 9.12987378e-04 3.26935947e-04 7.34450725e-02\n",
      " 5.92331921e-02 5.18526229e-05 1.86520490e-05 1.73209051e-05\n",
      " 5.67344301e-05 6.10107071e-04 2.42201842e-04 2.83099706e-03\n",
      " 1.12450006e-02 1.13170275e-03 7.86656200e-05 2.89766855e-05\n",
      " 6.66698404e-04 3.02134403e-02 1.11019977e-04 8.49509627e-05\n",
      " 5.74824037e-06 5.01618812e-05 7.29362542e-04 3.37570875e-05\n",
      " 9.00372661e-04 1.94233402e-04 1.58498161e-03 8.68677199e-04\n",
      " 7.61126235e-04 8.06866477e-04 1.36202450e-03 1.53382014e-04\n",
      " 3.14739447e-04]\n",
      "{'Mean Absolute Error': 0.0335142055698873, 'Mean Squared Error': 0.004245635073872463, 'Root Mean Squared Error': 0.06515853799673887, 'Datetime': '2019-09-23_20:57:48.480587'}\n"
     ]
    },
    {
     "data": {
      "text/plain": [
       "\"\\nwith open('./Models/super_model_results.pkl', 'wb') as f:\\n    pickle.dump(models_dict, f)\\n\\nwith open('./Models/super_model.pkl', 'wb') as f:\\n    pickle.dump(model, f)\\n\""
      ]
     },
     "execution_count": 10,
     "metadata": {},
     "output_type": "execute_result"
    }
   ],
   "source": [
    "'''\n",
    "RandomForestRegressor()\n",
    "\"RandomForestRegressor\": {\n",
    "        \"model\": RandomForestRegressor(),\n",
    "        \"params\": {\n",
    "        \"bootstrap\": [True, False],\n",
    "        \"max_depth\": [2, 3, 5, 10, 20, 40, 80, None],\n",
    "        \"max_features\": [\"sqrt\"],\n",
    "        \"min_samples_leaf\": [1, 2, 4],\n",
    "        \"min_samples_split\": [2, 5, 10],\n",
    "        \"n_jobs\": [-1],\n",
    "        \"n_estimators\": [\n",
    "            10,\n",
    "            50,\n",
    "            100,\n",
    "            400,\n",
    "            1000,\n",
    "            2000,\n",
    "'''\n",
    "# Train model using best params from grid search\n",
    "\n",
    "models_dict = dict()\n",
    "\n",
    "model = RandomForestRegressor(max_depth=5, max_features=\"sqrt\",  n_jobs=-1, n_estimators= 300)\n",
    "model.fit(X_train, y_train)\n",
    "\n",
    "y_pred = model.predict(X_test)\n",
    "\n",
    "models_dict = {\n",
    "    'Mean Absolute Error': mean_absolute_error(y_test, y_pred),\n",
    "    'Mean Squared Error': mean_squared_error(y_test, y_pred),\n",
    "    'Root Mean Squared Error': np.sqrt(mean_squared_error(y_test, y_pred)),\n",
    "    \"Datetime\": \"_\".join(str(datetime.datetime.now()).split())\n",
    "}\n",
    "\n",
    "\n",
    "print(model.feature_importances_)\n",
    "\n",
    "print(models_dict)\n",
    "'''\n",
    "with open('./Models/super_model_results.pkl', 'wb') as f:\n",
    "    pickle.dump(models_dict, f)\n",
    "\n",
    "with open('./Models/super_model.pkl', 'wb') as f:\n",
    "    pickle.dump(model, f)\n",
    "'''"
   ]
  },
  {
   "cell_type": "code",
   "execution_count": 11,
   "metadata": {},
   "outputs": [],
   "source": [
    "with open('./Models/RF_model_results.pkl', 'wb') as f:\n",
    "    pickle.dump(models_dict, f)\n",
    "\n",
    "with open('./Models/RF_super_model.pkl', 'wb') as f:\n",
    "    pickle.dump(model, f)"
   ]
  },
  {
   "cell_type": "code",
   "execution_count": 6,
   "metadata": {},
   "outputs": [
    {
     "name": "stdout",
     "output_type": "stream",
     "text": [
      "{'Mean Absolute Error': 0.03996184862674655, 'Mean Squared Error': 0.0044228674397935475, 'Root Mean Squared Error': 0.06650464224242957, 'Datetime': '2019-09-23_19:21:30.430228'}\n"
     ]
    }
   ],
   "source": [
    "# Train model using best params from grid search\n",
    "\n",
    "models_dict = dict()\n",
    "\n",
    "model = Ridge(alpha=0.01, copy_X=True, fit_intercept=False, max_iter=None, normalize=False, random_state=None, solver='sag', tol=0.001)\n",
    "\n",
    "model.fit(X_train, y_train)\n",
    "\n",
    "y_pred = model.predict(X_test)\n",
    "\n",
    "models_dict = {\n",
    "    'Mean Absolute Error': mean_absolute_error(y_test, y_pred),\n",
    "    'Mean Squared Error': mean_squared_error(y_test, y_pred),\n",
    "    'Root Mean Squared Error': np.sqrt(mean_squared_error(y_test, y_pred)),\n",
    "    \"Datetime\": \"_\".join(str(datetime.datetime.now()).split())\n",
    "}\n",
    "\n",
    "print(models_dict)\n",
    "\n",
    "with open('./Models/super_model_results.pkl', 'wb') as f:\n",
    "    pickle.dump(models_dict, f)\n",
    "\n",
    "with open('./Models/super_model.pkl', 'wb') as f:\n",
    "    pickle.dump(model, f)\n"
   ]
  },
  {
   "cell_type": "code",
   "execution_count": 7,
   "metadata": {},
   "outputs": [
    {
     "data": {
      "text/plain": [
       "array([-0.0047369 ,  0.02699067, -0.14108559, -0.07388089,  0.03612215,\n",
       "       -0.00536044,  0.02247008, -0.003981  , -0.00391725, -0.0287208 ,\n",
       "        0.04016192,  0.01426214, -0.00420039, -0.02032164, -0.01983818,\n",
       "       -0.00467941,  0.0085137 ,  0.01741639,  0.00528081,  0.02975786,\n",
       "        0.01811988,  0.06377715,  0.03570359,  0.02145515,  0.01854402,\n",
       "        0.01322352,  0.02312829,  0.02288895,  0.02188773, -0.00364208,\n",
       "       -0.00343423, -0.00872134, -0.02833609,  0.03390692, -0.00283011,\n",
       "       -0.01460388,  0.01587269,  0.02623964,  0.02588624,  0.01233973,\n",
       "        0.00249478,  0.03226455,  0.03191723, -0.00373894,  0.01406448,\n",
       "        0.04049004, -0.01265896,  0.02362847,  0.04486216,  0.02372124,\n",
       "        0.08126604,  0.04131858,  0.02267117,  0.02549065,  0.07015365,\n",
       "        0.00645866,  0.00998998,  0.00709957,  0.01810426,  0.01121783,\n",
       "        0.03753595,  0.13341443,  0.04979112,  0.0593423 ,  0.03202561,\n",
       "        0.02410554,  0.01372761,  0.01436381,  0.01387061,  0.01689202,\n",
       "        0.0012431 ,  0.00976684, -0.0029302 ,  0.02593432,  0.00822976,\n",
       "        0.01631175,  0.02393515, -0.00023792,  0.04751078,  0.00861049,\n",
       "        0.01571545,  0.04195952,  0.03630525,  0.03887307,  0.01007564,\n",
       "        0.02142086,  0.01915606, -0.00245873,  0.01993032,  0.0157039 ,\n",
       "        0.01601694,  0.00667291,  0.06556384,  0.01370806, -0.0002917 ,\n",
       "        0.03602553, -0.00963636, -0.00198511, -0.00334644, -0.00362653,\n",
       "       -0.00727851, -0.01800345,  0.00765028,  0.19961516,  0.14988877,\n",
       "        0.01936881,  0.02244839,  0.02085142,  0.02950007, -0.00856336,\n",
       "       -0.00346678, -0.02309595, -0.01202993, -0.01518028,  0.01749552,\n",
       "        0.03476744,  0.06832346,  0.06593419,  0.02252576,  0.01965184,\n",
       "        0.01366722,  0.02904681,  0.01300921,  0.01730595, -0.00786019,\n",
       "        0.0079589 , -0.02010382, -0.01789269, -0.00154359, -0.00976653,\n",
       "       -0.0177854 , -0.00832882, -0.0132416 ])"
      ]
     },
     "execution_count": 7,
     "metadata": {},
     "output_type": "execute_result"
    }
   ],
   "source": [
    "model.coef_"
   ]
  },
  {
   "cell_type": "code",
   "execution_count": null,
   "metadata": {},
   "outputs": [],
   "source": []
  }
 ],
 "metadata": {
  "kernelspec": {
   "display_name": ".micro",
   "language": "python",
   "name": ".micro"
  },
  "language_info": {
   "codemirror_mode": {
    "name": "ipython",
    "version": 3
   },
   "file_extension": ".py",
   "mimetype": "text/x-python",
   "name": "python",
   "nbconvert_exporter": "python",
   "pygments_lexer": "ipython3",
   "version": "3.7.4"
  }
 },
 "nbformat": 4,
 "nbformat_minor": 4
}
