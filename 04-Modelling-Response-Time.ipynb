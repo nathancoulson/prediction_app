{
 "cells": [
  {
   "cell_type": "code",
   "execution_count": 1,
   "metadata": {},
   "outputs": [],
   "source": [
    "import pandas as pd\n",
    "import os\n",
    "import sys\n",
    "import numpy as np\n",
    "import matplotlib.pyplot as plt\n",
    "import re\n",
    "import datetime\n",
    "import json\n",
    "import pickle\n",
    "\n",
    "from sklearn.model_selection import GridSearchCV\n",
    "from sklearn.model_selection import train_test_split\n",
    "from sklearn.pipeline import Pipeline\n",
    "\n",
    "from sklearn.linear_model import LinearRegression\n",
    "from sklearn.linear_model import Ridge\n",
    "from sklearn.linear_model import Lasso\n",
    "from sklearn.linear_model import ElasticNet\n",
    "from sklearn.ensemble import RandomForestRegressor\n",
    "from sklearn.neighbors import KNeighborsRegressor\n",
    "from sklearn.ensemble import GradientBoostingRegressor\n",
    "\n",
    "from sklearn.metrics import mean_absolute_error \n",
    "from sklearn.metrics import mean_squared_error\n",
    "\n",
    "pd.set_option('display.max_columns', 999)\n",
    "pd.set_option('display.max_rows', 500)"
   ]
  },
  {
   "cell_type": "code",
   "execution_count": 2,
   "metadata": {},
   "outputs": [],
   "source": [
    "path = \"./Datasets/\""
   ]
  },
  {
   "cell_type": "code",
   "execution_count": 3,
   "metadata": {},
   "outputs": [],
   "source": [
    "# Extract and prepare data\n",
    "\n",
    "resp_df = pd.read_parquet(path + \"resp_df.parquet\")\n",
    "\n",
    "y = resp_df.av_rolling_resp_time_250\n",
    "\n",
    "X = resp_df.drop(columns=[\"av_rolling_resp_time_250\"])\n",
    "\n",
    "X_train, X_test, y_train, y_test = train_test_split(X, y, test_size=0.30, random_state=42)\n",
    "\n",
    "X_train = np.ascontiguousarray(X_train)\n",
    "y_train = np.ascontiguousarray(y_train)\n",
    "\n",
    "X_test = np.ascontiguousarray(X_test)\n",
    "y_test = np.ascontiguousarray(y_test)"
   ]
  },
  {
   "cell_type": "code",
   "execution_count": 4,
   "metadata": {},
   "outputs": [
    {
     "data": {
      "text/plain": [
       "array([0.5       , 1.        , 0.2       , 1.        , 0.05      ,\n",
       "       0.0952381 , 0.22222222, 0.15      , 0.25      , 0.05555556,\n",
       "       0.05555556, 0.        , 0.05      , 0.125     , 0.        ,\n",
       "       0.        , 0.05555556, 0.05263158, 0.        , 0.2       ,\n",
       "       0.16666667, 0.19047619, 0.11111111, 0.        , 0.11764706,\n",
       "       0.05555556, 0.0625    , 0.11764706, 0.05555556, 0.23529412,\n",
       "       0.        , 0.05555556, 0.11764706, 0.04347826, 0.27777778,\n",
       "       0.        , 0.09090909, 0.11764706, 0.22222222, 0.0625    ,\n",
       "       0.        , 0.125     , 0.05882353, 0.26666667, 0.05263158,\n",
       "       0.        , 0.17391304, 0.13333333, 0.05882353, 0.25      ,\n",
       "       0.03846154, 0.16666667, 0.0625    , 0.        , 0.04761905,\n",
       "       0.        , 0.0625    , 0.0625    , 0.05882353, 0.10526316,\n",
       "       0.375     , 0.1       , 0.25      , 0.13043478, 0.05      ,\n",
       "       0.17647059, 0.        , 0.13333333, 0.25      , 0.        ,\n",
       "       0.11764706, 0.11111111, 0.0625    , 0.1875    , 0.14285714,\n",
       "       0.05555556, 0.3125    , 0.11764706, 0.        , 0.11111111,\n",
       "       0.125     , 0.125     , 0.        , 0.05882353, 0.1875    ,\n",
       "       0.11764706, 0.375     , 0.        , 0.        , 0.05263158,\n",
       "       0.05263158, 0.17647059, 0.10526316, 0.11111111, 0.05882353,\n",
       "       0.19047619, 0.13333333, 0.05882353, 0.11764706, 0.1875    ,\n",
       "       0.0625    , 0.125     , 0.0952381 , 0.        , 0.07142857,\n",
       "       0.05882353, 0.23529412, 0.26666667, 0.        , 0.11764706,\n",
       "       0.23529412, 0.05882353, 0.        , 0.        , 0.0625    ,\n",
       "       0.1875    , 0.33333333, 0.        , 0.29411765, 0.0625    ,\n",
       "       0.29411765, 0.05882353, 0.05      , 0.4       , 0.        ,\n",
       "       0.06666667, 0.125     , 0.33333333, 0.11111111, 0.17647059,\n",
       "       0.05263158, 0.16666667, 0.11111111])"
      ]
     },
     "execution_count": 4,
     "metadata": {},
     "output_type": "execute_result"
    }
   ],
   "source": [
    "X_train[0]"
   ]
  },
  {
   "cell_type": "code",
   "execution_count": 5,
   "metadata": {},
   "outputs": [
    {
     "data": {
      "text/plain": [
       "(2974918, 133)"
      ]
     },
     "execution_count": 5,
     "metadata": {},
     "output_type": "execute_result"
    }
   ],
   "source": [
    "X_train.shape"
   ]
  },
  {
   "cell_type": "code",
   "execution_count": null,
   "metadata": {},
   "outputs": [],
   "source": [
    "# Train model using best params from grid search\n",
    "\n",
    "models_dict = dict()\n",
    "\n",
    "model = Ridge(alpha=0.01, copy_X=True, fit_intercept=False, max_iter=None, normalize=False, random_state=None, solver='sag', tol=0.001)\n",
    "\n",
    "model.fit(X_train, y_train)\n",
    "\n",
    "y_pred = model.predict(X_test)\n",
    "\n",
    "models_dict = {\n",
    "    'Mean Absolute Error': mean_absolute_error(y_test, y_pred),\n",
    "    'Mean Squared Error': mean_squared_error(y_test, y_pred),\n",
    "    'Root Mean Squared Error': np.sqrt(mean_squared_error(y_test, y_pred)),\n",
    "    \"Datetime\": \"_\".join(str(datetime.datetime.now()).split())\n",
    "}\n",
    "\n",
    "print(models_dict)\n",
    "\n",
    "with open('./Models/super_model_results.pkl', 'wb') as f:\n",
    "    pickle.dump(models_dict, f)\n",
    "\n",
    "with open('./Models/super_model.pkl', 'wb') as f:\n",
    "    pickle.dump(model, f)\n"
   ]
  }
 ],
 "metadata": {
  "kernelspec": {
   "display_name": ".micro",
   "language": "python",
   "name": ".micro"
  },
  "language_info": {
   "codemirror_mode": {
    "name": "ipython",
    "version": 3
   },
   "file_extension": ".py",
   "mimetype": "text/x-python",
   "name": "python",
   "nbconvert_exporter": "python",
   "pygments_lexer": "ipython3",
   "version": "3.7.4"
  }
 },
 "nbformat": 4,
 "nbformat_minor": 4
}
