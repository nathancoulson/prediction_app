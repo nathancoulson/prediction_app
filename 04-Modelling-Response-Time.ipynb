{
 "cells": [
  {
   "cell_type": "code",
   "execution_count": null,
   "metadata": {},
   "outputs": [],
   "source": [
    "import pandas as pd\n",
    "import os\n",
    "import sys\n",
    "import numpy as np\n",
    "import matplotlib.pyplot as plt\n",
    "import re\n",
    "import datetime\n",
    "import json\n",
    "import pickle\n",
    "\n",
    "from sklearn.model_selection import GridSearchCV\n",
    "from sklearn.model_selection import train_test_split\n",
    "from sklearn.pipeline import Pipeline\n",
    "\n",
    "from sklearn.linear_model import LinearRegression\n",
    "from sklearn.linear_model import Ridge\n",
    "from sklearn.linear_model import Lasso\n",
    "from sklearn.linear_model import ElasticNet\n",
    "from sklearn.ensemble import RandomForestRegressor\n",
    "from sklearn.neighbors import KNeighborsRegressor\n",
    "from sklearn.ensemble import GradientBoostingRegressor\n",
    "\n",
    "from sklearn.metrics import mean_absolute_error \n",
    "from sklearn.metrics import mean_squared_error\n",
    "\n",
    "pd.set_option('display.max_columns', 999)\n",
    "pd.set_option('display.max_rows', 500)"
   ]
  },
  {
   "cell_type": "code",
   "execution_count": null,
   "metadata": {},
   "outputs": [],
   "source": [
    "path = \"./Datasets/\""
   ]
  },
  {
   "cell_type": "code",
   "execution_count": null,
   "metadata": {},
   "outputs": [],
   "source": [
    "# Extract and prepare data\n",
    "\n",
    "resp_df = pd.read_parquet(path + \"resp_df.parquet\")\n",
    "\n",
    "y = resp_df.av_rolling_resp_time_250\n",
    "\n",
    "X = resp_df.drop(columns=[\"av_rolling_resp_time_250\"])\n",
    "\n",
    "X_train, X_test, y_train, y_test = train_test_split(X, y, test_size=0.30, random_state=42)\n",
    "\n",
    "X_train = np.ascontiguousarray(X_train)\n",
    "y_train = np.ascontiguousarray(y_train)\n",
    "\n",
    "X_test = np.ascontiguousarray(X_test)\n",
    "y_test = np.ascontiguousarray(y_test)"
   ]
  },
  {
   "cell_type": "code",
   "execution_count": null,
   "metadata": {},
   "outputs": [],
   "source": [
    "# Train model using best params from grid search\n",
    "\n",
    "models_dict = dict()\n",
    "\n",
    "model = Ridge(alpha=0.01, copy_X=True, fit_intercept=False, max_iter=None, normalize=False, random_state=None, solver='sag', tol=0.001)\n",
    "\n",
    "model.fit(X_train, y_train)\n",
    "\n",
    "y_pred = model.predict(X_test)\n",
    "\n",
    "models_dict = {\n",
    "    'Mean Absolute Error': mean_absolute_error(y_test, y_pred),\n",
    "    'Mean Squared Error': mean_squared_error(y_test, y_pred),\n",
    "    'Root Mean Squared Error': np.sqrt(mean_squared_error(y_test, y_pred)),\n",
    "    \"Datetime\": \"_\".join(str(datetime.datetime.now()).split())\n",
    "}\n",
    "\n",
    "print(models_dict)\n",
    "\n",
    "with open('./Models/super_model_results.pkl', 'wb') as f:\n",
    "    pickle.dump(models_dict, f)\n",
    "\n",
    "with open('./Models/super_model.pkl', 'wb') as f:\n",
    "    pickle.dump(model, f)\n"
   ]
  },
  {
   "cell_type": "code",
   "execution_count": null,
   "metadata": {},
   "outputs": [],
   "source": [
    "sample = X_test[54732].reshape(1, -1)"
   ]
  },
  {
   "cell_type": "code",
   "execution_count": null,
   "metadata": {},
   "outputs": [],
   "source": [
    "y_test[54732]"
   ]
  },
  {
   "cell_type": "code",
   "execution_count": null,
   "metadata": {},
   "outputs": [],
   "source": [
    "model.predict(sample)"
   ]
  }
 ],
 "metadata": {
  "kernelspec": {
   "display_name": ".micro",
   "language": "python",
   "name": ".micro"
  },
  "language_info": {
   "codemirror_mode": {
    "name": "ipython",
    "version": 3
   },
   "file_extension": ".py",
   "mimetype": "text/x-python",
   "name": "python",
   "nbconvert_exporter": "python",
   "pygments_lexer": "ipython3",
   "version": "3.7.4"
  }
 },
 "nbformat": 4,
 "nbformat_minor": 4
}
