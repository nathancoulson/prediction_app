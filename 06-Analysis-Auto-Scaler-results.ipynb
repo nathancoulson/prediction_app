{
 "cells": [
  {
   "cell_type": "code",
   "execution_count": null,
   "metadata": {},
   "outputs": [],
   "source": [
    "import pandas as pd\n",
    "import matplotlib.pyplot as plt\n",
    "import re\n",
    "from Modelling_Module.model_evaluation_lstm import most_common, reveal_bias, add_bias_labels, is_bias"
   ]
  },
  {
   "cell_type": "markdown",
   "metadata": {},
   "source": [
    "# EDA of auto-scaler experiments"
   ]
  },
  {
   "cell_type": "code",
   "execution_count": null,
   "metadata": {},
   "outputs": [],
   "source": [
    "final_ex_all_1_df = pd.read_parquet(\"./Results/Auto-scaling-results/final_ex/final-ex-all-1/final-ex-all-1.parquet\")\n",
    "final_ex_2X3_df = pd.read_parquet(\"./Results/Auto-scaling-results/final_ex/final-ex-2X3/final-ex-2X3.parquet\")\n",
    "final_ex_3X3_df = pd.read_parquet(\"./Results/Auto-scaling-results/final_ex/final-ex-3X3/final-ex-3X3.parquet\")\n",
    "final_ex_4X3_df = pd.read_parquet(\"./Results/Auto-scaling-results/final_ex/final-ex-4X3/final-ex-4X3.parquet\")"
   ]
  },
  {
   "cell_type": "code",
   "execution_count": null,
   "metadata": {},
   "outputs": [],
   "source": [
    "final_ex_all_1_df.resp_time = final_ex_all_1_df.resp_time.astype(float)\n",
    "final_ex_2X3_df.resp_time = final_ex_2X3_df.resp_time.astype(float)\n",
    "final_ex_3X3_df.resp_time = final_ex_3X3_df.resp_time.astype(float)\n",
    "final_ex_4X3_df.resp_time = final_ex_4X3_df.resp_time.astype(float)"
   ]
  },
  {
   "cell_type": "code",
   "execution_count": null,
   "metadata": {},
   "outputs": [],
   "source": [
    "print(\"Mean response time - no scaling: \" + str(final_ex_all_1_df.resp_time.mean()))\n",
    "print(\"Mean response time - suggested scaling (2): \" + str(final_ex_2X3_df.resp_time.mean()))\n",
    "print(\"Mean response time - alt scaling (3): \" + str(final_ex_3X3_df.resp_time.mean()))\n",
    "print(\"Mean response time - alt scaling (4): \" + str(final_ex_4X3_df.resp_time.mean()))"
   ]
  },
  {
   "cell_type": "code",
   "execution_count": null,
   "metadata": {},
   "outputs": [],
   "source": [
    "url_features = final_ex_3X3_df.url.unique().tolist()\n",
    "bias_lst = add_bias_labels(url_features)"
   ]
  },
  {
   "cell_type": "code",
   "execution_count": null,
   "metadata": {},
   "outputs": [],
   "source": [
    "bias_2 = [x[:-7] for x in bias_lst if \"bias-2\" in x]\n",
    "bias_3 = [x[:-7] for x in bias_lst if \"bias-3\" in x]\n",
    "bias_4 = [x[:-7] for x in bias_lst if \"bias-4\" in x]"
   ]
  },
  {
   "cell_type": "code",
   "execution_count": null,
   "metadata": {},
   "outputs": [],
   "source": [
    "for df in [final_ex_all_1_df, final_ex_2X3_df, final_ex_3X3_df, final_ex_4X3_df]:\n",
    "    df[\"bias_2\"] = df[\"url\"].apply(lambda x: is_bias(x, bias_2))\n",
    "    df[\"bias_3\"] = df[\"url\"].apply(lambda x: is_bias(x, bias_3))\n",
    "    df[\"bias_4\"] = df[\"url\"].apply(lambda x: is_bias(x, bias_4))"
   ]
  },
  {
   "cell_type": "code",
   "execution_count": null,
   "metadata": {},
   "outputs": [],
   "source": [
    "final_ex_all_1_df.groupby([\"bias_2\", \"bias_3\", \"bias_4\"]).resp_time.hist()"
   ]
  },
  {
   "cell_type": "code",
   "execution_count": null,
   "metadata": {},
   "outputs": [],
   "source": [
    "final_ex_all_1_df[final_ex_all_1_df[\"bias_2\"] == True].resp_time.hist()"
   ]
  },
  {
   "cell_type": "code",
   "execution_count": null,
   "metadata": {},
   "outputs": [],
   "source": [
    "final_ex_all_1_df[final_ex_all_1_df[\"bias_3\"] == True].resp_time.hist()"
   ]
  },
  {
   "cell_type": "code",
   "execution_count": null,
   "metadata": {},
   "outputs": [],
   "source": [
    "final_ex_all_1_df[final_ex_all_1_df[\"bias_4\"] == True].resp_time.hist()"
   ]
  },
  {
   "cell_type": "code",
   "execution_count": null,
   "metadata": {},
   "outputs": [],
   "source": [
    "final_ex_2X3_df.groupby([\"bias_2\", \"bias_3\", \"bias_4\"]).resp_time.hist()"
   ]
  },
  {
   "cell_type": "code",
   "execution_count": null,
   "metadata": {},
   "outputs": [],
   "source": [
    "final_ex_3X3_df.groupby([\"bias_2\", \"bias_3\", \"bias_4\"]).resp_time.hist()"
   ]
  },
  {
   "cell_type": "code",
   "execution_count": null,
   "metadata": {},
   "outputs": [],
   "source": [
    "final_ex_4X3_df.groupby([\"bias_2\", \"bias_3\", \"bias_4\"]).resp_time.hist()"
   ]
  }
 ],
 "metadata": {
  "kernelspec": {
   "display_name": ".micro",
   "language": "python",
   "name": ".micro"
  },
  "language_info": {
   "codemirror_mode": {
    "name": "ipython",
    "version": 3
   },
   "file_extension": ".py",
   "mimetype": "text/x-python",
   "name": "python",
   "nbconvert_exporter": "python",
   "pygments_lexer": "ipython3",
   "version": "3.7.4"
  }
 },
 "nbformat": 4,
 "nbformat_minor": 4
}
