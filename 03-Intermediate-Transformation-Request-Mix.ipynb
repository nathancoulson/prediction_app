{
 "cells": [
  {
   "cell_type": "code",
   "execution_count": null,
   "metadata": {},
   "outputs": [],
   "source": [
    "import pandas as pd\n",
    "import os\n",
    "import sys\n",
    "import numpy as np\n",
    "import datetime\n",
    "from random import randint\n",
    "from numpy import array\n",
    "import pickle"
   ]
  },
  {
   "cell_type": "code",
   "execution_count": null,
   "metadata": {},
   "outputs": [],
   "source": [
    "path = './Datasets/'"
   ]
  },
  {
   "cell_type": "code",
   "execution_count": null,
   "metadata": {},
   "outputs": [],
   "source": [
    "train_df = pd.read_parquet(path + 'train.parquet')\n",
    "test_df = pd.read_parquet(path + 'test.parquet')\n",
    "\n",
    "# First half of Test as validation - second half: holdout\n",
    "\n",
    "holdout_df = test_df[:1120000]\n",
    "test_df = test_df[1120000:2240000]\n",
    "\n",
    "# Prepare test data as validation\n",
    "\n",
    "y_val = array(test_df[[col for col in test_df.columns if \"CS_\" in col]]).reshape(1120000,129)\n",
    "\n",
    "X_val = test_df[[col for col in test_df.columns if \"CS_\" not in col]].to_numpy()\n",
    "X_val = X_val.reshape(1120,1000,129)\n",
    "\n",
    "# Get the thousandth request vector for y\n",
    "\n",
    "sub_y_val = y_val[::1000]\n",
    "\n",
    "# Prepare training data\n",
    "\n",
    "y = array(train_df[[col for col in train_df.columns if \"CS_\" in col]]).reshape(2241000,129)\n",
    "\n",
    "X = train_df[[col for col in train_df.columns if \"CS_\" not in col]].to_numpy()\n",
    "X = X.reshape(2241,1000,129)\n",
    "\n",
    "# Get the thousandth request vector for y\n",
    "\n",
    "sub_y = y[::1000]\n",
    "\n",
    "# Prepare test data\n",
    "\n",
    "y_test = array(holdout_df[[col for col in holdout_df.columns if \"CS_\" in col]]).reshape(1120000,129)\n",
    "\n",
    "X_test = holdout_df[[col for col in holdout_df.columns if \"CS_\" not in col]].to_numpy()\n",
    "X_test = X_test.reshape(1120,1000,129)\n",
    "\n",
    "# Get the thousandth request vector for y\n",
    "\n",
    "sub_y_test = y_test[::1000]"
   ]
  },
  {
   "cell_type": "code",
   "execution_count": null,
   "metadata": {},
   "outputs": [],
   "source": [
    "with open(path + 'X_val.pkl', 'wb') as f: \n",
    "    pickle.dump(X_val, f)\n",
    "with open(path + 'y_val.pkl', 'wb') as f: \n",
    "    pickle.dump(sub_y_val, f)\n",
    "with open(path + 'X_train.pkl', 'wb') as f: \n",
    "    pickle.dump(X, f)\n",
    "with open(path + 'y_train.pkl', 'wb') as f: \n",
    "    pickle.dump(sub_y, f)\n",
    "with open(path + 'X_test.pkl', 'wb') as f: \n",
    "    pickle.dump(X_test, f)\n",
    "with open(path + 'y_test.pkl', 'wb') as f: \n",
    "    pickle.dump(sub_y_test, f)"
   ]
  }
 ],
 "metadata": {
  "kernelspec": {
   "display_name": ".micro",
   "language": "python",
   "name": ".micro"
  },
  "language_info": {
   "codemirror_mode": {
    "name": "ipython",
    "version": 3
   },
   "file_extension": ".py",
   "mimetype": "text/x-python",
   "name": "python",
   "nbconvert_exporter": "python",
   "pygments_lexer": "ipython3",
   "version": "3.7.4"
  }
 },
 "nbformat": 4,
 "nbformat_minor": 4
}
