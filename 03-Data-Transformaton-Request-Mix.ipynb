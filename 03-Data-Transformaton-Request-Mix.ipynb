{
 "cells": [
  {
   "cell_type": "code",
   "execution_count": null,
   "metadata": {},
   "outputs": [],
   "source": [
    "import pandas as pd\n",
    "import os\n",
    "import sys\n",
    "import numpy as np\n",
    "import matplotlib.pyplot as plt\n",
    "\n",
    "from sklearn.preprocessing import MinMaxScaler\n",
    "\n",
    "import re\n",
    "\n",
    "pd.set_option('display.max_columns', 999)\n",
    "pd.set_option('display.max_rows', 500)"
   ]
  },
  {
   "cell_type": "code",
   "execution_count": null,
   "metadata": {},
   "outputs": [],
   "source": [
    "log_df = pd.read_parquet(\"logs.parquet\")"
   ]
  },
  {
   "cell_type": "code",
   "execution_count": null,
   "metadata": {},
   "outputs": [],
   "source": [
    "# Feature transformations\n",
    "\n",
    "# Create categorical variables for url requests\n",
    "\n",
    "log_df = pd.get_dummies(log_df, columns = ['url'])\n",
    "\n",
    "# Create url request only dataframe\n",
    "\n",
    "log_df.columns.tolist()\n",
    "\n",
    "url_features = [col for col in log_df.columns if \"url\" in col]\n",
    "\n",
    "req_df = log_df[url_features]\n",
    "\n",
    "req_df.shape"
   ]
  },
  {
   "cell_type": "code",
   "execution_count": null,
   "metadata": {},
   "outputs": [],
   "source": [
    "# Create sequence prediction outcome variable -> next 250 requests\n",
    "\n",
    "for url in url_features:\n",
    "     req_df[\"CS_\" + url] = req_df[url].rolling(250).sum()\n",
    "\n",
    "cumsum_cols = [col for col in req_df.columns if \"CS_\" in col]\n",
    "        \n",
    "# Delete NaN rows\n",
    "\n",
    "req_df.dropna(inplace=True)\n",
    "\n",
    "# Shift output variable 250 places down\n",
    "\n",
    "req_df[cumsum_cols] = req_df[cumsum_cols].shift(-250)\n",
    "\n",
    "# Delete NaN rows again\n",
    "\n",
    "req_df.dropna(inplace=True)\n",
    "\n",
    "# Scale CS cols between 0 and 1\n",
    "\n",
    "req_df[cumsum_cols] = MinMaxScaler().fit_transform(req_df[cumsum_cols])"
   ]
  },
  {
   "cell_type": "code",
   "execution_count": null,
   "metadata": {},
   "outputs": [],
   "source": [
    "# Split 50/50 into train and test sets (keeping distribution)\n",
    "\n",
    "train_df = req_df.iloc[::2]  # even\n",
    "\n",
    "test_df = req_df.iloc[1::2]  # odd\n"
   ]
  },
  {
   "cell_type": "code",
   "execution_count": null,
   "metadata": {},
   "outputs": [],
   "source": [
    "# Create subset (every 2th request) and trim\n",
    "\n",
    "# trim to size\n",
    "\n",
    "train_df = train_df.iloc[0:2241000]\n",
    "test_df = test_df.iloc[0:2241000]"
   ]
  },
  {
   "cell_type": "code",
   "execution_count": null,
   "metadata": {},
   "outputs": [],
   "source": [
    "train_df.to_parquet('train.parquet')\n",
    "test_df.to_parquet('test.parquet')"
   ]
  }
 ],
 "metadata": {
  "kernelspec": {
   "display_name": ".micro",
   "language": "python",
   "name": ".micro"
  },
  "language_info": {
   "codemirror_mode": {
    "name": "ipython",
    "version": 3
   },
   "file_extension": ".py",
   "mimetype": "text/x-python",
   "name": "python",
   "nbconvert_exporter": "python",
   "pygments_lexer": "ipython3",
   "version": "3.7.4"
  }
 },
 "nbformat": 4,
 "nbformat_minor": 4
}
