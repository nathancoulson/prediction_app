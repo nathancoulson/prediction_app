{
 "cells": [
  {
   "cell_type": "code",
   "execution_count": 1,
   "metadata": {},
   "outputs": [],
   "source": [
    "import pandas as pd\n",
    "import matplotlib.pyplot as plt\n",
    "import re"
   ]
  },
  {
   "cell_type": "code",
   "execution_count": 2,
   "metadata": {},
   "outputs": [],
   "source": [
    "# Eval transformation functions\n",
    "\n",
    "def most_common(lst): \n",
    "    return max(set(lst), key = lst.count)\n",
    "\n",
    "def reveal_bias(url):\n",
    "    path = url.split('/', 1)[1]\n",
    "    apps = re.sub('[/-]', ' ',path).split()[:-1]\n",
    "    return most_common(apps)\n",
    "\n",
    "def add_bias_labels(col_lst):\n",
    "    for i in range(len(col_lst)):\n",
    "        col_lst[i] = col_lst[i] + \"-bias-\" + reveal_bias(col_lst[i])\n",
    "    return col_lst"
   ]
  },
  {
   "cell_type": "code",
   "execution_count": 3,
   "metadata": {},
   "outputs": [],
   "source": [
    "final_ex_all_1_df = pd.read_parquet(\"./Auto-scaling-results/final_ex/final-ex-all-1/final-ex-all-1.parquet\")\n",
    "final_ex_2X3_df = pd.read_parquet(\"./Auto-scaling-results/final_ex/final-ex-2X3/final-ex-2X3.parquet\")\n",
    "final_ex_3X3_df = pd.read_parquet(\"./Auto-scaling-results/final_ex/final-ex-3X3/final-ex-3X3.parquet\")\n",
    "final_ex_4X3_df = pd.read_parquet(\"./Auto-scaling-results/final_ex/final-ex-4X3/final-ex-4X3.parquet\")"
   ]
  },
  {
   "cell_type": "code",
   "execution_count": 4,
   "metadata": {},
   "outputs": [
    {
     "data": {
      "text/html": [
       "<div>\n",
       "<style scoped>\n",
       "    .dataframe tbody tr th:only-of-type {\n",
       "        vertical-align: middle;\n",
       "    }\n",
       "\n",
       "    .dataframe tbody tr th {\n",
       "        vertical-align: top;\n",
       "    }\n",
       "\n",
       "    .dataframe thead th {\n",
       "        text-align: right;\n",
       "    }\n",
       "</style>\n",
       "<table border=\"1\" class=\"dataframe\">\n",
       "  <thead>\n",
       "    <tr style=\"text-align: right;\">\n",
       "      <th></th>\n",
       "      <th>resp_time</th>\n",
       "      <th>bytes_sent</th>\n",
       "      <th>resp_code</th>\n",
       "      <th>url</th>\n",
       "      <th>datetime</th>\n",
       "      <th>app_1_containers</th>\n",
       "      <th>app_2_containers</th>\n",
       "      <th>app_3_containers</th>\n",
       "      <th>app_4_containers</th>\n",
       "    </tr>\n",
       "  </thead>\n",
       "  <tbody>\n",
       "    <tr>\n",
       "      <td>0</td>\n",
       "      <td>0.020</td>\n",
       "      <td>198</td>\n",
       "      <td>200</td>\n",
       "      <td>/3/4-3/42</td>\n",
       "      <td>2019-09-24 19:39:18</td>\n",
       "      <td>1</td>\n",
       "      <td>1</td>\n",
       "      <td>1</td>\n",
       "      <td>1</td>\n",
       "    </tr>\n",
       "    <tr>\n",
       "      <td>1</td>\n",
       "      <td>0.021</td>\n",
       "      <td>207</td>\n",
       "      <td>200</td>\n",
       "      <td>/3/4-2-2/38</td>\n",
       "      <td>2019-09-24 19:39:18</td>\n",
       "      <td>1</td>\n",
       "      <td>1</td>\n",
       "      <td>1</td>\n",
       "      <td>1</td>\n",
       "    </tr>\n",
       "    <tr>\n",
       "      <td>2</td>\n",
       "      <td>0.035</td>\n",
       "      <td>217</td>\n",
       "      <td>200</td>\n",
       "      <td>/2/2-2-3-2/126</td>\n",
       "      <td>2019-09-24 19:39:18</td>\n",
       "      <td>1</td>\n",
       "      <td>1</td>\n",
       "      <td>1</td>\n",
       "      <td>1</td>\n",
       "    </tr>\n",
       "    <tr>\n",
       "      <td>3</td>\n",
       "      <td>0.314</td>\n",
       "      <td>188</td>\n",
       "      <td>200</td>\n",
       "      <td>/4/3/65</td>\n",
       "      <td>2019-09-24 19:39:18</td>\n",
       "      <td>1</td>\n",
       "      <td>1</td>\n",
       "      <td>1</td>\n",
       "      <td>1</td>\n",
       "    </tr>\n",
       "    <tr>\n",
       "      <td>4</td>\n",
       "      <td>0.320</td>\n",
       "      <td>217</td>\n",
       "      <td>200</td>\n",
       "      <td>/3/4-2-3-4/56</td>\n",
       "      <td>2019-09-24 19:39:18</td>\n",
       "      <td>1</td>\n",
       "      <td>1</td>\n",
       "      <td>1</td>\n",
       "      <td>1</td>\n",
       "    </tr>\n",
       "    <tr>\n",
       "      <td>...</td>\n",
       "      <td>...</td>\n",
       "      <td>...</td>\n",
       "      <td>...</td>\n",
       "      <td>...</td>\n",
       "      <td>...</td>\n",
       "      <td>...</td>\n",
       "      <td>...</td>\n",
       "      <td>...</td>\n",
       "      <td>...</td>\n",
       "    </tr>\n",
       "    <tr>\n",
       "      <td>146620</td>\n",
       "      <td>60.002</td>\n",
       "      <td>345</td>\n",
       "      <td>504</td>\n",
       "      <td>/3/3-3/110</td>\n",
       "      <td>2019-09-24 21:36:04</td>\n",
       "      <td>1</td>\n",
       "      <td>1</td>\n",
       "      <td>1</td>\n",
       "      <td>1</td>\n",
       "    </tr>\n",
       "    <tr>\n",
       "      <td>146621</td>\n",
       "      <td>None</td>\n",
       "      <td>None</td>\n",
       "      <td>110</td>\n",
       "      <td>/4/2-3-3-4/64</td>\n",
       "      <td>2019-09-24 21:36:04</td>\n",
       "      <td>1</td>\n",
       "      <td>1</td>\n",
       "      <td>1</td>\n",
       "      <td>1</td>\n",
       "    </tr>\n",
       "    <tr>\n",
       "      <td>146622</td>\n",
       "      <td>None</td>\n",
       "      <td>None</td>\n",
       "      <td>110</td>\n",
       "      <td>/3/3-3/110</td>\n",
       "      <td>2019-09-24 21:36:04</td>\n",
       "      <td>1</td>\n",
       "      <td>1</td>\n",
       "      <td>1</td>\n",
       "      <td>1</td>\n",
       "    </tr>\n",
       "    <tr>\n",
       "      <td>146623</td>\n",
       "      <td>60.001</td>\n",
       "      <td>345</td>\n",
       "      <td>504</td>\n",
       "      <td>/4/4-3/224</td>\n",
       "      <td>2019-09-24 21:36:04</td>\n",
       "      <td>1</td>\n",
       "      <td>1</td>\n",
       "      <td>1</td>\n",
       "      <td>1</td>\n",
       "    </tr>\n",
       "    <tr>\n",
       "      <td>146624</td>\n",
       "      <td>None</td>\n",
       "      <td>None</td>\n",
       "      <td>110</td>\n",
       "      <td>/4/4-3/224</td>\n",
       "      <td>2019-09-24 21:36:04</td>\n",
       "      <td>1</td>\n",
       "      <td>1</td>\n",
       "      <td>1</td>\n",
       "      <td>1</td>\n",
       "    </tr>\n",
       "  </tbody>\n",
       "</table>\n",
       "<p>146625 rows × 9 columns</p>\n",
       "</div>"
      ],
      "text/plain": [
       "       resp_time bytes_sent resp_code             url             datetime  \\\n",
       "0          0.020        198       200       /3/4-3/42  2019-09-24 19:39:18   \n",
       "1          0.021        207       200     /3/4-2-2/38  2019-09-24 19:39:18   \n",
       "2          0.035        217       200  /2/2-2-3-2/126  2019-09-24 19:39:18   \n",
       "3          0.314        188       200         /4/3/65  2019-09-24 19:39:18   \n",
       "4          0.320        217       200   /3/4-2-3-4/56  2019-09-24 19:39:18   \n",
       "...          ...        ...       ...             ...                  ...   \n",
       "146620    60.002        345       504      /3/3-3/110  2019-09-24 21:36:04   \n",
       "146621      None       None       110   /4/2-3-3-4/64  2019-09-24 21:36:04   \n",
       "146622      None       None       110      /3/3-3/110  2019-09-24 21:36:04   \n",
       "146623    60.001        345       504      /4/4-3/224  2019-09-24 21:36:04   \n",
       "146624      None       None       110      /4/4-3/224  2019-09-24 21:36:04   \n",
       "\n",
       "        app_1_containers  app_2_containers  app_3_containers  app_4_containers  \n",
       "0                      1                 1                 1                 1  \n",
       "1                      1                 1                 1                 1  \n",
       "2                      1                 1                 1                 1  \n",
       "3                      1                 1                 1                 1  \n",
       "4                      1                 1                 1                 1  \n",
       "...                  ...               ...               ...               ...  \n",
       "146620                 1                 1                 1                 1  \n",
       "146621                 1                 1                 1                 1  \n",
       "146622                 1                 1                 1                 1  \n",
       "146623                 1                 1                 1                 1  \n",
       "146624                 1                 1                 1                 1  \n",
       "\n",
       "[146625 rows x 9 columns]"
      ]
     },
     "execution_count": 4,
     "metadata": {},
     "output_type": "execute_result"
    }
   ],
   "source": [
    "final_ex_all_1_df"
   ]
  },
  {
   "cell_type": "code",
   "execution_count": 5,
   "metadata": {},
   "outputs": [],
   "source": [
    "final_ex_all_1_df.resp_time = final_ex_all_1_df.resp_time.astype(float)\n",
    "final_ex_2X3_df.resp_time = final_ex_2X3_df.resp_time.astype(float)\n",
    "final_ex_3X3_df.resp_time = final_ex_3X3_df.resp_time.astype(float)\n",
    "final_ex_4X3_df.resp_time = final_ex_4X3_df.resp_time.astype(float)"
   ]
  },
  {
   "cell_type": "code",
   "execution_count": 6,
   "metadata": {},
   "outputs": [
    {
     "data": {
      "text/plain": [
       "\"\\nex_1_df = pd.get_dummies(ex_1_df, columns = ['url'])\\nex_2_df = pd.get_dummies(ex_2_df, columns = ['url'])\\n\""
      ]
     },
     "execution_count": 6,
     "metadata": {},
     "output_type": "execute_result"
    }
   ],
   "source": [
    "'''\n",
    "ex_1_df = pd.get_dummies(ex_1_df, columns = ['url'])\n",
    "ex_2_df = pd.get_dummies(ex_2_df, columns = ['url'])\n",
    "'''"
   ]
  },
  {
   "cell_type": "code",
   "execution_count": 7,
   "metadata": {},
   "outputs": [
    {
     "data": {
      "text/plain": [
       "15.873369294605812"
      ]
     },
     "execution_count": 7,
     "metadata": {},
     "output_type": "execute_result"
    }
   ],
   "source": [
    "final_ex_all_1_df.resp_time.mean()"
   ]
  },
  {
   "cell_type": "code",
   "execution_count": 8,
   "metadata": {},
   "outputs": [
    {
     "data": {
      "text/plain": [
       "15.973676881326995"
      ]
     },
     "execution_count": 8,
     "metadata": {},
     "output_type": "execute_result"
    }
   ],
   "source": [
    "final_ex_2X3_df.resp_time.mean()"
   ]
  },
  {
   "cell_type": "code",
   "execution_count": 9,
   "metadata": {},
   "outputs": [
    {
     "data": {
      "text/plain": [
       "7.985083527448301"
      ]
     },
     "execution_count": 9,
     "metadata": {},
     "output_type": "execute_result"
    }
   ],
   "source": [
    "final_ex_3X3_df.resp_time.mean()"
   ]
  },
  {
   "cell_type": "code",
   "execution_count": 10,
   "metadata": {},
   "outputs": [
    {
     "data": {
      "text/plain": [
       "16.236601372952617"
      ]
     },
     "execution_count": 10,
     "metadata": {},
     "output_type": "execute_result"
    }
   ],
   "source": [
    "final_ex_4X3_df.resp_time.mean()"
   ]
  },
  {
   "cell_type": "code",
   "execution_count": 11,
   "metadata": {},
   "outputs": [],
   "source": [
    "url_features = final_ex_3X3_df.url.unique().tolist()"
   ]
  },
  {
   "cell_type": "code",
   "execution_count": 12,
   "metadata": {},
   "outputs": [],
   "source": [
    "bias_lst = add_bias_labels(url_features)"
   ]
  },
  {
   "cell_type": "code",
   "execution_count": 13,
   "metadata": {},
   "outputs": [],
   "source": [
    "bias_2 = [x[:-7] for x in bias_lst if \"bias-2\" in x]\n",
    "bias_3 = [x[:-7] for x in bias_lst if \"bias-3\" in x]\n",
    "bias_4 = [x[:-7] for x in bias_lst if \"bias-4\" in x]"
   ]
  },
  {
   "cell_type": "code",
   "execution_count": 14,
   "metadata": {},
   "outputs": [],
   "source": [
    "def is_bias(url, lst):\n",
    "    if url in lst:\n",
    "        return True\n",
    "    else:\n",
    "        return False"
   ]
  },
  {
   "cell_type": "code",
   "execution_count": null,
   "metadata": {},
   "outputs": [],
   "source": [
    "bias_2"
   ]
  },
  {
   "cell_type": "code",
   "execution_count": 16,
   "metadata": {},
   "outputs": [],
   "source": [
    "for df in [final_ex_all_1_df, final_ex_2X3_df, final_ex_3X3_df, final_ex_4X3_df]:\n",
    "    df[\"bias_2\"] = df[\"url\"].apply(lambda x: is_bias(x, bias_2))\n",
    "    df[\"bias_3\"] = df[\"url\"].apply(lambda x: is_bias(x, bias_3))\n",
    "    df[\"bias_4\"] = df[\"url\"].apply(lambda x: is_bias(x, bias_4))"
   ]
  },
  {
   "cell_type": "code",
   "execution_count": null,
   "metadata": {},
   "outputs": [],
   "source": [
    "final_ex_all_1_df"
   ]
  },
  {
   "cell_type": "code",
   "execution_count": 18,
   "metadata": {},
   "outputs": [
    {
     "data": {
      "text/plain": [
       "bias_2  bias_3  bias_4\n",
       "False   False   True      AxesSubplot(0.125,0.125;0.775x0.755)\n",
       "        True    False     AxesSubplot(0.125,0.125;0.775x0.755)\n",
       "True    False   False     AxesSubplot(0.125,0.125;0.775x0.755)\n",
       "Name: resp_time, dtype: object"
      ]
     },
     "execution_count": 18,
     "metadata": {},
     "output_type": "execute_result"
    },
    {
     "data": {
      "image/png": "[encoded data removed]",
      "text/plain": [
       "<Figure size 432x288 with 1 Axes>"
      ]
     },
     "metadata": {
      "needs_background": "light"
     },
     "output_type": "display_data"
    }
   ],
   "source": [
    "final_ex_all_1_df.groupby([\"bias_2\", \"bias_3\", \"bias_4\"]).resp_time.hist()"
   ]
  },
  {
   "cell_type": "code",
   "execution_count": 19,
   "metadata": {},
   "outputs": [
    {
     "data": {
      "text/plain": [
       "<matplotlib.axes._subplots.AxesSubplot at 0x1038b4810>"
      ]
     },
     "execution_count": 19,
     "metadata": {},
     "output_type": "execute_result"
    },
    {
     "data": {
      "image/png": "[encoded data removed]",
      "text/plain": [
       "<Figure size 432x288 with 1 Axes>"
      ]
     },
     "metadata": {
      "needs_background": "light"
     },
     "output_type": "display_data"
    }
   ],
   "source": [
    "final_ex_all_1_df[final_ex_all_1_df[\"bias_2\"] == True].resp_time.hist()"
   ]
  },
  {
   "cell_type": "code",
   "execution_count": 20,
   "metadata": {},
   "outputs": [
    {
     "data": {
      "text/plain": [
       "<matplotlib.axes._subplots.AxesSubplot at 0x1166d4790>"
      ]
     },
     "execution_count": 20,
     "metadata": {},
     "output_type": "execute_result"
    },
    {
     "data": {
      "image/png": "[encoded data removed]",
      "text/plain": [
       "<Figure size 432x288 with 1 Axes>"
      ]
     },
     "metadata": {
      "needs_background": "light"
     },
     "output_type": "display_data"
    }
   ],
   "source": [
    "final_ex_all_1_df[final_ex_all_1_df[\"bias_3\"] == True].resp_time.hist()"
   ]
  },
  {
   "cell_type": "code",
   "execution_count": 21,
   "metadata": {},
   "outputs": [
    {
     "data": {
      "text/plain": [
       "<matplotlib.axes._subplots.AxesSubplot at 0x1158ed090>"
      ]
     },
     "execution_count": 21,
     "metadata": {},
     "output_type": "execute_result"
    },
    {
     "data": {
      "image/png": "[encoded data removed]",
      "text/plain": [
       "<Figure size 432x288 with 1 Axes>"
      ]
     },
     "metadata": {
      "needs_background": "light"
     },
     "output_type": "display_data"
    }
   ],
   "source": [
    "final_ex_all_1_df[final_ex_all_1_df[\"bias_4\"] == True].resp_time.hist()"
   ]
  },
  {
   "cell_type": "code",
   "execution_count": 22,
   "metadata": {},
   "outputs": [
    {
     "data": {
      "text/plain": [
       "bias_2  bias_3  bias_4\n",
       "False   False   True      AxesSubplot(0.125,0.125;0.775x0.755)\n",
       "        True    False     AxesSubplot(0.125,0.125;0.775x0.755)\n",
       "True    False   False     AxesSubplot(0.125,0.125;0.775x0.755)\n",
       "Name: resp_time, dtype: object"
      ]
     },
     "execution_count": 22,
     "metadata": {},
     "output_type": "execute_result"
    },
    {
     "data": {
      "image/png": "[encoded data removed]",
      "text/plain": [
       "<Figure size 432x288 with 1 Axes>"
      ]
     },
     "metadata": {
      "needs_background": "light"
     },
     "output_type": "display_data"
    }
   ],
   "source": [
    "final_ex_2X3_df.groupby([\"bias_2\", \"bias_3\", \"bias_4\"]).resp_time.hist()"
   ]
  },
  {
   "cell_type": "code",
   "execution_count": 23,
   "metadata": {},
   "outputs": [
    {
     "data": {
      "text/plain": [
       "bias_2  bias_3  bias_4\n",
       "False   False   True      AxesSubplot(0.125,0.125;0.775x0.755)\n",
       "        True    False     AxesSubplot(0.125,0.125;0.775x0.755)\n",
       "True    False   False     AxesSubplot(0.125,0.125;0.775x0.755)\n",
       "Name: resp_time, dtype: object"
      ]
     },
     "execution_count": 23,
     "metadata": {},
     "output_type": "execute_result"
    },
    {
     "data": {
      "image/png": "[encoded data removed]",
      "text/plain": [
       "<Figure size 432x288 with 1 Axes>"
      ]
     },
     "metadata": {
      "needs_background": "light"
     },
     "output_type": "display_data"
    }
   ],
   "source": [
    "final_ex_3X3_df.groupby([\"bias_2\", \"bias_3\", \"bias_4\"]).resp_time.hist()"
   ]
  },
  {
   "cell_type": "code",
   "execution_count": 24,
   "metadata": {},
   "outputs": [
    {
     "data": {
      "text/plain": [
       "bias_2  bias_3  bias_4\n",
       "False   False   True      AxesSubplot(0.125,0.125;0.775x0.755)\n",
       "        True    False     AxesSubplot(0.125,0.125;0.775x0.755)\n",
       "True    False   False     AxesSubplot(0.125,0.125;0.775x0.755)\n",
       "Name: resp_time, dtype: object"
      ]
     },
     "execution_count": 24,
     "metadata": {},
     "output_type": "execute_result"
    },
    {
     "data": {
      "image/png": "[encoded data removed]",
      "text/plain": [
       "<Figure size 432x288 with 1 Axes>"
      ]
     },
     "metadata": {
      "needs_background": "light"
     },
     "output_type": "display_data"
    }
   ],
   "source": [
    "final_ex_4X3_df.groupby([\"bias_2\", \"bias_3\", \"bias_4\"]).resp_time.hist()"
   ]
  }
 ],
 "metadata": {
  "kernelspec": {
   "display_name": ".micro",
   "language": "python",
   "name": ".micro"
  },
  "language_info": {
   "codemirror_mode": {
    "name": "ipython",
    "version": 3
   },
   "file_extension": ".py",
   "mimetype": "text/x-python",
   "name": "python",
   "nbconvert_exporter": "python",
   "pygments_lexer": "ipython3",
   "version": "3.7.4"
  }
 },
 "nbformat": 4,
 "nbformat_minor": 4
}
