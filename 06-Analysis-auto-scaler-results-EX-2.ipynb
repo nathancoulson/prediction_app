{
 "cells": [
  {
   "cell_type": "code",
   "execution_count": 1,
   "metadata": {},
   "outputs": [],
   "source": [
    "import pandas as pd\n",
    "import matplotlib.pyplot as plt\n",
    "import re"
   ]
  },
  {
   "cell_type": "code",
   "execution_count": 2,
   "metadata": {},
   "outputs": [],
   "source": [
    "# Eval transformation functions\n",
    "\n",
    "def most_common(lst): \n",
    "    return max(set(lst), key = lst.count)\n",
    "\n",
    "def reveal_bias(url):\n",
    "    path = url.split('/', 1)[1]\n",
    "    apps = re.sub('[/-]', ' ',path).split()[:-1]\n",
    "    return most_common(apps)\n",
    "\n",
    "def add_bias_labels(col_lst):\n",
    "    for i in range(len(col_lst)):\n",
    "        col_lst[i] = col_lst[i] + \"-bias-\" + reveal_bias(col_lst[i])\n",
    "    return col_lst"
   ]
  },
  {
   "cell_type": "code",
   "execution_count": 3,
   "metadata": {},
   "outputs": [],
   "source": [
    "ex_16_df = pd.read_parquet(\"./Auto-scaling-results/final_ex/ex-16/ex-16.parquet\")\n",
    "ex_26_df = pd.read_parquet(\"./Auto-scaling-results/final_ex/ex-26/ex-26.parquet\")\n",
    "ex_36_df = pd.read_parquet(\"./Auto-scaling-results/final_ex/ex-36/ex-36.parquet\")\n",
    "ex_46_df = pd.read_parquet(\"./Auto-scaling-results/final_ex/ex-46/ex-46.parquet\")"
   ]
  },
  {
   "cell_type": "code",
   "execution_count": 37,
   "metadata": {},
   "outputs": [
    {
     "data": {
      "text/html": [
       "<div>\n",
       "<style scoped>\n",
       "    .dataframe tbody tr th:only-of-type {\n",
       "        vertical-align: middle;\n",
       "    }\n",
       "\n",
       "    .dataframe tbody tr th {\n",
       "        vertical-align: top;\n",
       "    }\n",
       "\n",
       "    .dataframe thead th {\n",
       "        text-align: right;\n",
       "    }\n",
       "</style>\n",
       "<table border=\"1\" class=\"dataframe\">\n",
       "  <thead>\n",
       "    <tr style=\"text-align: right;\">\n",
       "      <th></th>\n",
       "      <th>resp_time</th>\n",
       "      <th>bytes_sent</th>\n",
       "      <th>resp_code</th>\n",
       "      <th>url</th>\n",
       "      <th>datetime</th>\n",
       "      <th>app_1_containers</th>\n",
       "      <th>app_2_containers</th>\n",
       "      <th>app_3_containers</th>\n",
       "      <th>app_4_containers</th>\n",
       "      <th>bias_2</th>\n",
       "      <th>bias_3</th>\n",
       "      <th>bias_4</th>\n",
       "    </tr>\n",
       "  </thead>\n",
       "  <tbody>\n",
       "    <tr>\n",
       "      <td>0</td>\n",
       "      <td>0.037</td>\n",
       "      <td>218</td>\n",
       "      <td>200</td>\n",
       "      <td>/3/3-3-2-2/115</td>\n",
       "      <td>2019-09-24 13:37:08</td>\n",
       "      <td>6</td>\n",
       "      <td>3</td>\n",
       "      <td>3</td>\n",
       "      <td>3</td>\n",
       "      <td>False</td>\n",
       "      <td>True</td>\n",
       "      <td>False</td>\n",
       "    </tr>\n",
       "    <tr>\n",
       "      <td>1</td>\n",
       "      <td>0.318</td>\n",
       "      <td>198</td>\n",
       "      <td>200</td>\n",
       "      <td>/2/3-4/232</td>\n",
       "      <td>2019-09-24 13:37:08</td>\n",
       "      <td>6</td>\n",
       "      <td>3</td>\n",
       "      <td>3</td>\n",
       "      <td>3</td>\n",
       "      <td>False</td>\n",
       "      <td>False</td>\n",
       "      <td>True</td>\n",
       "    </tr>\n",
       "    <tr>\n",
       "      <td>2</td>\n",
       "      <td>0.308</td>\n",
       "      <td>198</td>\n",
       "      <td>200</td>\n",
       "      <td>/3/3-4/37</td>\n",
       "      <td>2019-09-24 13:37:08</td>\n",
       "      <td>6</td>\n",
       "      <td>3</td>\n",
       "      <td>3</td>\n",
       "      <td>3</td>\n",
       "      <td>False</td>\n",
       "      <td>True</td>\n",
       "      <td>False</td>\n",
       "    </tr>\n",
       "    <tr>\n",
       "      <td>3</td>\n",
       "      <td>0.014</td>\n",
       "      <td>198</td>\n",
       "      <td>200</td>\n",
       "      <td>/3/4-3/42</td>\n",
       "      <td>2019-09-24 13:37:08</td>\n",
       "      <td>6</td>\n",
       "      <td>3</td>\n",
       "      <td>3</td>\n",
       "      <td>3</td>\n",
       "      <td>False</td>\n",
       "      <td>True</td>\n",
       "      <td>False</td>\n",
       "    </tr>\n",
       "    <tr>\n",
       "      <td>4</td>\n",
       "      <td>0.293</td>\n",
       "      <td>188</td>\n",
       "      <td>200</td>\n",
       "      <td>/4/4/223</td>\n",
       "      <td>2019-09-24 13:37:08</td>\n",
       "      <td>6</td>\n",
       "      <td>3</td>\n",
       "      <td>3</td>\n",
       "      <td>3</td>\n",
       "      <td>False</td>\n",
       "      <td>False</td>\n",
       "      <td>True</td>\n",
       "    </tr>\n",
       "    <tr>\n",
       "      <td>...</td>\n",
       "      <td>...</td>\n",
       "      <td>...</td>\n",
       "      <td>...</td>\n",
       "      <td>...</td>\n",
       "      <td>...</td>\n",
       "      <td>...</td>\n",
       "      <td>...</td>\n",
       "      <td>...</td>\n",
       "      <td>...</td>\n",
       "      <td>...</td>\n",
       "      <td>...</td>\n",
       "      <td>...</td>\n",
       "    </tr>\n",
       "    <tr>\n",
       "      <td>71794</td>\n",
       "      <td>44.029</td>\n",
       "      <td>0</td>\n",
       "      <td>499</td>\n",
       "      <td>/3/2-3-2-2/204</td>\n",
       "      <td>2019-09-24 14:07:07</td>\n",
       "      <td>6</td>\n",
       "      <td>3</td>\n",
       "      <td>3</td>\n",
       "      <td>3</td>\n",
       "      <td>True</td>\n",
       "      <td>False</td>\n",
       "      <td>False</td>\n",
       "    </tr>\n",
       "    <tr>\n",
       "      <td>71795</td>\n",
       "      <td>7.508</td>\n",
       "      <td>0</td>\n",
       "      <td>499</td>\n",
       "      <td>/4/3-3-3-3-3/181</td>\n",
       "      <td>2019-09-24 14:07:07</td>\n",
       "      <td>6</td>\n",
       "      <td>3</td>\n",
       "      <td>3</td>\n",
       "      <td>3</td>\n",
       "      <td>False</td>\n",
       "      <td>True</td>\n",
       "      <td>False</td>\n",
       "    </tr>\n",
       "    <tr>\n",
       "      <td>71796</td>\n",
       "      <td>11.226</td>\n",
       "      <td>0</td>\n",
       "      <td>499</td>\n",
       "      <td>/3/2-3-3-2/107</td>\n",
       "      <td>2019-09-24 14:07:07</td>\n",
       "      <td>6</td>\n",
       "      <td>3</td>\n",
       "      <td>3</td>\n",
       "      <td>3</td>\n",
       "      <td>False</td>\n",
       "      <td>True</td>\n",
       "      <td>False</td>\n",
       "    </tr>\n",
       "    <tr>\n",
       "      <td>71797</td>\n",
       "      <td>5.565</td>\n",
       "      <td>0</td>\n",
       "      <td>499</td>\n",
       "      <td>/3/2-3-2-2/212</td>\n",
       "      <td>2019-09-24 14:07:07</td>\n",
       "      <td>6</td>\n",
       "      <td>3</td>\n",
       "      <td>3</td>\n",
       "      <td>3</td>\n",
       "      <td>True</td>\n",
       "      <td>False</td>\n",
       "      <td>False</td>\n",
       "    </tr>\n",
       "    <tr>\n",
       "      <td>71798</td>\n",
       "      <td>6.115</td>\n",
       "      <td>0</td>\n",
       "      <td>499</td>\n",
       "      <td>/4/4-4-3-4/16</td>\n",
       "      <td>2019-09-24 14:07:07</td>\n",
       "      <td>6</td>\n",
       "      <td>3</td>\n",
       "      <td>3</td>\n",
       "      <td>3</td>\n",
       "      <td>False</td>\n",
       "      <td>False</td>\n",
       "      <td>True</td>\n",
       "    </tr>\n",
       "  </tbody>\n",
       "</table>\n",
       "<p>71799 rows × 12 columns</p>\n",
       "</div>"
      ],
      "text/plain": [
       "       resp_time bytes_sent resp_code               url             datetime  \\\n",
       "0          0.037        218       200    /3/3-3-2-2/115  2019-09-24 13:37:08   \n",
       "1          0.318        198       200        /2/3-4/232  2019-09-24 13:37:08   \n",
       "2          0.308        198       200         /3/3-4/37  2019-09-24 13:37:08   \n",
       "3          0.014        198       200         /3/4-3/42  2019-09-24 13:37:08   \n",
       "4          0.293        188       200          /4/4/223  2019-09-24 13:37:08   \n",
       "...          ...        ...       ...               ...                  ...   \n",
       "71794     44.029          0       499    /3/2-3-2-2/204  2019-09-24 14:07:07   \n",
       "71795      7.508          0       499  /4/3-3-3-3-3/181  2019-09-24 14:07:07   \n",
       "71796     11.226          0       499    /3/2-3-3-2/107  2019-09-24 14:07:07   \n",
       "71797      5.565          0       499    /3/2-3-2-2/212  2019-09-24 14:07:07   \n",
       "71798      6.115          0       499     /4/4-4-3-4/16  2019-09-24 14:07:07   \n",
       "\n",
       "       app_1_containers  app_2_containers  app_3_containers  app_4_containers  \\\n",
       "0                     6                 3                 3                 3   \n",
       "1                     6                 3                 3                 3   \n",
       "2                     6                 3                 3                 3   \n",
       "3                     6                 3                 3                 3   \n",
       "4                     6                 3                 3                 3   \n",
       "...                 ...               ...               ...               ...   \n",
       "71794                 6                 3                 3                 3   \n",
       "71795                 6                 3                 3                 3   \n",
       "71796                 6                 3                 3                 3   \n",
       "71797                 6                 3                 3                 3   \n",
       "71798                 6                 3                 3                 3   \n",
       "\n",
       "       bias_2  bias_3  bias_4  \n",
       "0       False    True   False  \n",
       "1       False   False    True  \n",
       "2       False    True   False  \n",
       "3       False    True   False  \n",
       "4       False   False    True  \n",
       "...       ...     ...     ...  \n",
       "71794    True   False   False  \n",
       "71795   False    True   False  \n",
       "71796   False    True   False  \n",
       "71797    True   False   False  \n",
       "71798   False   False    True  \n",
       "\n",
       "[71799 rows x 12 columns]"
      ]
     },
     "execution_count": 37,
     "metadata": {},
     "output_type": "execute_result"
    }
   ],
   "source": [
    "ex_16_df"
   ]
  },
  {
   "cell_type": "code",
   "execution_count": 5,
   "metadata": {},
   "outputs": [],
   "source": [
    "ex_16_df.resp_time = ex_16_df.resp_time.astype(float)\n",
    "ex_26_df.resp_time = ex_26_df.resp_time.astype(float)\n",
    "ex_36_df.resp_time = ex_36_df.resp_time.astype(float)\n",
    "ex_46_df.resp_time = ex_46_df.resp_time.astype(float)"
   ]
  },
  {
   "cell_type": "code",
   "execution_count": 6,
   "metadata": {},
   "outputs": [
    {
     "data": {
      "text/plain": [
       "\"\\nex_1_df = pd.get_dummies(ex_1_df, columns = ['url'])\\nex_2_df = pd.get_dummies(ex_2_df, columns = ['url'])\\n\""
      ]
     },
     "execution_count": 6,
     "metadata": {},
     "output_type": "execute_result"
    }
   ],
   "source": [
    "'''\n",
    "ex_1_df = pd.get_dummies(ex_1_df, columns = ['url'])\n",
    "ex_2_df = pd.get_dummies(ex_2_df, columns = ['url'])\n",
    "'''"
   ]
  },
  {
   "cell_type": "code",
   "execution_count": 7,
   "metadata": {},
   "outputs": [
    {
     "data": {
      "text/plain": [
       "8.568028180286436"
      ]
     },
     "execution_count": 7,
     "metadata": {},
     "output_type": "execute_result"
    }
   ],
   "source": [
    "ex_16_df.resp_time.mean()"
   ]
  },
  {
   "cell_type": "code",
   "execution_count": 8,
   "metadata": {},
   "outputs": [
    {
     "data": {
      "text/plain": [
       "8.60464958322205"
      ]
     },
     "execution_count": 8,
     "metadata": {},
     "output_type": "execute_result"
    }
   ],
   "source": [
    "ex_26_df.resp_time.mean()"
   ]
  },
  {
   "cell_type": "code",
   "execution_count": 9,
   "metadata": {},
   "outputs": [
    {
     "data": {
      "text/plain": [
       "8.400398910889717"
      ]
     },
     "execution_count": 9,
     "metadata": {},
     "output_type": "execute_result"
    }
   ],
   "source": [
    "ex_36_df.resp_time.mean()"
   ]
  },
  {
   "cell_type": "code",
   "execution_count": 10,
   "metadata": {},
   "outputs": [
    {
     "data": {
      "text/plain": [
       "8.363470390783638"
      ]
     },
     "execution_count": 10,
     "metadata": {},
     "output_type": "execute_result"
    }
   ],
   "source": [
    "ex_46_df.resp_time.mean()"
   ]
  },
  {
   "cell_type": "code",
   "execution_count": 11,
   "metadata": {},
   "outputs": [],
   "source": [
    "url_features = ex_16_df.url.unique().tolist()"
   ]
  },
  {
   "cell_type": "code",
   "execution_count": 12,
   "metadata": {},
   "outputs": [],
   "source": [
    "bias_lst = add_bias_labels(url_features)"
   ]
  },
  {
   "cell_type": "code",
   "execution_count": 22,
   "metadata": {},
   "outputs": [],
   "source": [
    "bias_2 = [x[:-7] for x in bias_lst if \"bias-2\" in x]\n",
    "bias_3 = [x[:-7] for x in bias_lst if \"bias-3\" in x]\n",
    "bias_4 = [x[:-7] for x in bias_lst if \"bias-4\" in x]"
   ]
  },
  {
   "cell_type": "code",
   "execution_count": 23,
   "metadata": {},
   "outputs": [],
   "source": [
    "def is_bias(url, lst):\n",
    "    if url in lst:\n",
    "        return True\n",
    "    else:\n",
    "        return False"
   ]
  },
  {
   "cell_type": "code",
   "execution_count": 24,
   "metadata": {},
   "outputs": [
    {
     "data": {
      "text/plain": [
       "['/2/4-2-2-3-2/204',\n",
       " '/2/4-2-4-2/65',\n",
       " '/2/2-2-2-4-4/72',\n",
       " '/2/4-3-2-2-2/85',\n",
       " '/2/2/130',\n",
       " '/3/2/158',\n",
       " '/2/2-2-2-3-2/197',\n",
       " '/2/4-3-2-2-2/105',\n",
       " '/2/3-3-2/245',\n",
       " '/3/3-2-2-2-2/197',\n",
       " '/2/2-2-3-2/126',\n",
       " '/2/2-3-2-2-3/104',\n",
       " '/2/2-2/6',\n",
       " '/2/3/188',\n",
       " '/3/4-2-2/38',\n",
       " '/2/2/247',\n",
       " '/3/4-2-2/96',\n",
       " '/3/2-3-2-2/204',\n",
       " '/4/2-4-2-2/75',\n",
       " '/2/3-2-3-4-2/94',\n",
       " '/2/2-2-4/199',\n",
       " '/3/3-2-2-2/137',\n",
       " '/2/2-2/95',\n",
       " '/2/2-3/104',\n",
       " '/3/2-3-2-2/212',\n",
       " '/2/3/6',\n",
       " '/2/3-2-3/93',\n",
       " '/2/3-4-2-3/152',\n",
       " '/3/3-2-2/77',\n",
       " '/3/2-2-3/49',\n",
       " '/2/2/57',\n",
       " '/2/2/119']"
      ]
     },
     "execution_count": 24,
     "metadata": {},
     "output_type": "execute_result"
    }
   ],
   "source": [
    "bias_2"
   ]
  },
  {
   "cell_type": "code",
   "execution_count": 25,
   "metadata": {},
   "outputs": [],
   "source": [
    "for df in [ex_16_df, ex_26_df, ex_36_df, ex_46_df]:\n",
    "    df[\"bias_2\"] = df[\"url\"].apply(lambda x: is_bias(x, bias_2))\n",
    "    df[\"bias_3\"] = df[\"url\"].apply(lambda x: is_bias(x, bias_3))\n",
    "    df[\"bias_4\"] = df[\"url\"].apply(lambda x: is_bias(x, bias_4))"
   ]
  },
  {
   "cell_type": "code",
   "execution_count": 26,
   "metadata": {},
   "outputs": [
    {
     "data": {
      "text/html": [
       "<div>\n",
       "<style scoped>\n",
       "    .dataframe tbody tr th:only-of-type {\n",
       "        vertical-align: middle;\n",
       "    }\n",
       "\n",
       "    .dataframe tbody tr th {\n",
       "        vertical-align: top;\n",
       "    }\n",
       "\n",
       "    .dataframe thead th {\n",
       "        text-align: right;\n",
       "    }\n",
       "</style>\n",
       "<table border=\"1\" class=\"dataframe\">\n",
       "  <thead>\n",
       "    <tr style=\"text-align: right;\">\n",
       "      <th></th>\n",
       "      <th>resp_time</th>\n",
       "      <th>bytes_sent</th>\n",
       "      <th>resp_code</th>\n",
       "      <th>url</th>\n",
       "      <th>datetime</th>\n",
       "      <th>app_1_containers</th>\n",
       "      <th>app_2_containers</th>\n",
       "      <th>app_3_containers</th>\n",
       "      <th>app_4_containers</th>\n",
       "      <th>bias_2</th>\n",
       "      <th>bias_3</th>\n",
       "      <th>bias_4</th>\n",
       "    </tr>\n",
       "  </thead>\n",
       "  <tbody>\n",
       "    <tr>\n",
       "      <td>0</td>\n",
       "      <td>0.037</td>\n",
       "      <td>218</td>\n",
       "      <td>200</td>\n",
       "      <td>/3/3-3-2-2/115</td>\n",
       "      <td>2019-09-24 13:37:08</td>\n",
       "      <td>6</td>\n",
       "      <td>3</td>\n",
       "      <td>3</td>\n",
       "      <td>3</td>\n",
       "      <td>False</td>\n",
       "      <td>True</td>\n",
       "      <td>False</td>\n",
       "    </tr>\n",
       "    <tr>\n",
       "      <td>1</td>\n",
       "      <td>0.318</td>\n",
       "      <td>198</td>\n",
       "      <td>200</td>\n",
       "      <td>/2/3-4/232</td>\n",
       "      <td>2019-09-24 13:37:08</td>\n",
       "      <td>6</td>\n",
       "      <td>3</td>\n",
       "      <td>3</td>\n",
       "      <td>3</td>\n",
       "      <td>False</td>\n",
       "      <td>False</td>\n",
       "      <td>True</td>\n",
       "    </tr>\n",
       "    <tr>\n",
       "      <td>2</td>\n",
       "      <td>0.308</td>\n",
       "      <td>198</td>\n",
       "      <td>200</td>\n",
       "      <td>/3/3-4/37</td>\n",
       "      <td>2019-09-24 13:37:08</td>\n",
       "      <td>6</td>\n",
       "      <td>3</td>\n",
       "      <td>3</td>\n",
       "      <td>3</td>\n",
       "      <td>False</td>\n",
       "      <td>True</td>\n",
       "      <td>False</td>\n",
       "    </tr>\n",
       "    <tr>\n",
       "      <td>3</td>\n",
       "      <td>0.014</td>\n",
       "      <td>198</td>\n",
       "      <td>200</td>\n",
       "      <td>/3/4-3/42</td>\n",
       "      <td>2019-09-24 13:37:08</td>\n",
       "      <td>6</td>\n",
       "      <td>3</td>\n",
       "      <td>3</td>\n",
       "      <td>3</td>\n",
       "      <td>False</td>\n",
       "      <td>True</td>\n",
       "      <td>False</td>\n",
       "    </tr>\n",
       "    <tr>\n",
       "      <td>4</td>\n",
       "      <td>0.293</td>\n",
       "      <td>188</td>\n",
       "      <td>200</td>\n",
       "      <td>/4/4/223</td>\n",
       "      <td>2019-09-24 13:37:08</td>\n",
       "      <td>6</td>\n",
       "      <td>3</td>\n",
       "      <td>3</td>\n",
       "      <td>3</td>\n",
       "      <td>False</td>\n",
       "      <td>False</td>\n",
       "      <td>True</td>\n",
       "    </tr>\n",
       "    <tr>\n",
       "      <td>...</td>\n",
       "      <td>...</td>\n",
       "      <td>...</td>\n",
       "      <td>...</td>\n",
       "      <td>...</td>\n",
       "      <td>...</td>\n",
       "      <td>...</td>\n",
       "      <td>...</td>\n",
       "      <td>...</td>\n",
       "      <td>...</td>\n",
       "      <td>...</td>\n",
       "      <td>...</td>\n",
       "      <td>...</td>\n",
       "    </tr>\n",
       "    <tr>\n",
       "      <td>71794</td>\n",
       "      <td>44.029</td>\n",
       "      <td>0</td>\n",
       "      <td>499</td>\n",
       "      <td>/3/2-3-2-2/204</td>\n",
       "      <td>2019-09-24 14:07:07</td>\n",
       "      <td>6</td>\n",
       "      <td>3</td>\n",
       "      <td>3</td>\n",
       "      <td>3</td>\n",
       "      <td>True</td>\n",
       "      <td>False</td>\n",
       "      <td>False</td>\n",
       "    </tr>\n",
       "    <tr>\n",
       "      <td>71795</td>\n",
       "      <td>7.508</td>\n",
       "      <td>0</td>\n",
       "      <td>499</td>\n",
       "      <td>/4/3-3-3-3-3/181</td>\n",
       "      <td>2019-09-24 14:07:07</td>\n",
       "      <td>6</td>\n",
       "      <td>3</td>\n",
       "      <td>3</td>\n",
       "      <td>3</td>\n",
       "      <td>False</td>\n",
       "      <td>True</td>\n",
       "      <td>False</td>\n",
       "    </tr>\n",
       "    <tr>\n",
       "      <td>71796</td>\n",
       "      <td>11.226</td>\n",
       "      <td>0</td>\n",
       "      <td>499</td>\n",
       "      <td>/3/2-3-3-2/107</td>\n",
       "      <td>2019-09-24 14:07:07</td>\n",
       "      <td>6</td>\n",
       "      <td>3</td>\n",
       "      <td>3</td>\n",
       "      <td>3</td>\n",
       "      <td>False</td>\n",
       "      <td>True</td>\n",
       "      <td>False</td>\n",
       "    </tr>\n",
       "    <tr>\n",
       "      <td>71797</td>\n",
       "      <td>5.565</td>\n",
       "      <td>0</td>\n",
       "      <td>499</td>\n",
       "      <td>/3/2-3-2-2/212</td>\n",
       "      <td>2019-09-24 14:07:07</td>\n",
       "      <td>6</td>\n",
       "      <td>3</td>\n",
       "      <td>3</td>\n",
       "      <td>3</td>\n",
       "      <td>True</td>\n",
       "      <td>False</td>\n",
       "      <td>False</td>\n",
       "    </tr>\n",
       "    <tr>\n",
       "      <td>71798</td>\n",
       "      <td>6.115</td>\n",
       "      <td>0</td>\n",
       "      <td>499</td>\n",
       "      <td>/4/4-4-3-4/16</td>\n",
       "      <td>2019-09-24 14:07:07</td>\n",
       "      <td>6</td>\n",
       "      <td>3</td>\n",
       "      <td>3</td>\n",
       "      <td>3</td>\n",
       "      <td>False</td>\n",
       "      <td>False</td>\n",
       "      <td>True</td>\n",
       "    </tr>\n",
       "  </tbody>\n",
       "</table>\n",
       "<p>71799 rows × 12 columns</p>\n",
       "</div>"
      ],
      "text/plain": [
       "       resp_time bytes_sent resp_code               url             datetime  \\\n",
       "0          0.037        218       200    /3/3-3-2-2/115  2019-09-24 13:37:08   \n",
       "1          0.318        198       200        /2/3-4/232  2019-09-24 13:37:08   \n",
       "2          0.308        198       200         /3/3-4/37  2019-09-24 13:37:08   \n",
       "3          0.014        198       200         /3/4-3/42  2019-09-24 13:37:08   \n",
       "4          0.293        188       200          /4/4/223  2019-09-24 13:37:08   \n",
       "...          ...        ...       ...               ...                  ...   \n",
       "71794     44.029          0       499    /3/2-3-2-2/204  2019-09-24 14:07:07   \n",
       "71795      7.508          0       499  /4/3-3-3-3-3/181  2019-09-24 14:07:07   \n",
       "71796     11.226          0       499    /3/2-3-3-2/107  2019-09-24 14:07:07   \n",
       "71797      5.565          0       499    /3/2-3-2-2/212  2019-09-24 14:07:07   \n",
       "71798      6.115          0       499     /4/4-4-3-4/16  2019-09-24 14:07:07   \n",
       "\n",
       "       app_1_containers  app_2_containers  app_3_containers  app_4_containers  \\\n",
       "0                     6                 3                 3                 3   \n",
       "1                     6                 3                 3                 3   \n",
       "2                     6                 3                 3                 3   \n",
       "3                     6                 3                 3                 3   \n",
       "4                     6                 3                 3                 3   \n",
       "...                 ...               ...               ...               ...   \n",
       "71794                 6                 3                 3                 3   \n",
       "71795                 6                 3                 3                 3   \n",
       "71796                 6                 3                 3                 3   \n",
       "71797                 6                 3                 3                 3   \n",
       "71798                 6                 3                 3                 3   \n",
       "\n",
       "       bias_2  bias_3  bias_4  \n",
       "0       False    True   False  \n",
       "1       False   False    True  \n",
       "2       False    True   False  \n",
       "3       False    True   False  \n",
       "4       False   False    True  \n",
       "...       ...     ...     ...  \n",
       "71794    True   False   False  \n",
       "71795   False    True   False  \n",
       "71796   False    True   False  \n",
       "71797    True   False   False  \n",
       "71798   False   False    True  \n",
       "\n",
       "[71799 rows x 12 columns]"
      ]
     },
     "execution_count": 26,
     "metadata": {},
     "output_type": "execute_result"
    }
   ],
   "source": [
    "ex_16_df"
   ]
  },
  {
   "cell_type": "code",
   "execution_count": 33,
   "metadata": {},
   "outputs": [
    {
     "data": {
      "text/plain": [
       "'\\nex_16_df[ex_16_df[\"bias_2\"] == True].resp_time.hist()\\n\\nex_16_df[ex_16_df[\"bias_3\"] == True].resp_time.hist()\\n\\nex_16_df[ex_16_df[\"bias_4\"] == True].resp_time.hist()\\n'"
      ]
     },
     "execution_count": 33,
     "metadata": {},
     "output_type": "execute_result"
    },
    {
     "data": {
      "image/png": "[encoded data removed]",
      "text/plain": [
       "<Figure size 432x288 with 1 Axes>"
      ]
     },
     "metadata": {
      "needs_background": "light"
     },
     "output_type": "display_data"
    }
   ],
   "source": [
    "ex_16_df.groupby([\"bias_2\", \"bias_3\", \"bias_4\"]).resp_time.hist()"
   ]
  },
  {
   "cell_type": "code",
   "execution_count": 29,
   "metadata": {},
   "outputs": [
    {
     "data": {
      "text/plain": [
       "<matplotlib.axes._subplots.AxesSubplot at 0x11fc299d0>"
      ]
     },
     "execution_count": 29,
     "metadata": {},
     "output_type": "execute_result"
    },
    {
     "data": {
      "image/png": "[encoded data removed]",
      "text/plain": [
       "<Figure size 432x288 with 1 Axes>"
      ]
     },
     "metadata": {
      "needs_background": "light"
     },
     "output_type": "display_data"
    }
   ],
   "source": [
    "ex_16_df[ex_16_df[\"bias_2\"] == True].resp_time.hist()"
   ]
  },
  {
   "cell_type": "code",
   "execution_count": 30,
   "metadata": {},
   "outputs": [
    {
     "data": {
      "text/plain": [
       "<matplotlib.axes._subplots.AxesSubplot at 0x11fc2f5d0>"
      ]
     },
     "execution_count": 30,
     "metadata": {},
     "output_type": "execute_result"
    },
    {
     "data": {
      "image/png": "[encoded data removed]",
      "text/plain": [
       "<Figure size 432x288 with 1 Axes>"
      ]
     },
     "metadata": {
      "needs_background": "light"
     },
     "output_type": "display_data"
    }
   ],
   "source": [
    "ex_16_df[ex_16_df[\"bias_3\"] == True].resp_time.hist()"
   ]
  },
  {
   "cell_type": "code",
   "execution_count": 31,
   "metadata": {},
   "outputs": [
    {
     "data": {
      "text/plain": [
       "<matplotlib.axes._subplots.AxesSubplot at 0x11cd35910>"
      ]
     },
     "execution_count": 31,
     "metadata": {},
     "output_type": "execute_result"
    },
    {
     "data": {
      "image/png": "[encoded data removed]",
      "text/plain": [
       "<Figure size 432x288 with 1 Axes>"
      ]
     },
     "metadata": {
      "needs_background": "light"
     },
     "output_type": "display_data"
    }
   ],
   "source": [
    "ex_16_df[ex_16_df[\"bias_4\"] == True].resp_time.hist()"
   ]
  },
  {
   "cell_type": "code",
   "execution_count": 34,
   "metadata": {},
   "outputs": [
    {
     "data": {
      "text/plain": [
       "bias_2  bias_3  bias_4\n",
       "False   False   True      AxesSubplot(0.125,0.125;0.775x0.755)\n",
       "        True    False     AxesSubplot(0.125,0.125;0.775x0.755)\n",
       "True    False   False     AxesSubplot(0.125,0.125;0.775x0.755)\n",
       "Name: resp_time, dtype: object"
      ]
     },
     "execution_count": 34,
     "metadata": {},
     "output_type": "execute_result"
    },
    {
     "data": {
      "image/png": "[encoded data removed]",
      "text/plain": [
       "<Figure size 432x288 with 1 Axes>"
      ]
     },
     "metadata": {
      "needs_background": "light"
     },
     "output_type": "display_data"
    }
   ],
   "source": [
    "ex_26_df.groupby([\"bias_2\", \"bias_3\", \"bias_4\"]).resp_time.hist()"
   ]
  },
  {
   "cell_type": "code",
   "execution_count": 35,
   "metadata": {},
   "outputs": [
    {
     "data": {
      "text/plain": [
       "bias_2  bias_3  bias_4\n",
       "False   False   True      AxesSubplot(0.125,0.125;0.775x0.755)\n",
       "        True    False     AxesSubplot(0.125,0.125;0.775x0.755)\n",
       "True    False   False     AxesSubplot(0.125,0.125;0.775x0.755)\n",
       "Name: resp_time, dtype: object"
      ]
     },
     "execution_count": 35,
     "metadata": {},
     "output_type": "execute_result"
    },
    {
     "data": {
      "image/png": "[encoded data removed]",
      "text/plain": [
       "<Figure size 432x288 with 1 Axes>"
      ]
     },
     "metadata": {
      "needs_background": "light"
     },
     "output_type": "display_data"
    }
   ],
   "source": [
    "ex_36_df.groupby([\"bias_2\", \"bias_3\", \"bias_4\"]).resp_time.hist()"
   ]
  },
  {
   "cell_type": "code",
   "execution_count": 36,
   "metadata": {},
   "outputs": [
    {
     "data": {
      "text/plain": [
       "bias_2  bias_3  bias_4\n",
       "False   False   True      AxesSubplot(0.125,0.125;0.775x0.755)\n",
       "        True    False     AxesSubplot(0.125,0.125;0.775x0.755)\n",
       "True    False   False     AxesSubplot(0.125,0.125;0.775x0.755)\n",
       "Name: resp_time, dtype: object"
      ]
     },
     "execution_count": 36,
     "metadata": {},
     "output_type": "execute_result"
    },
    {
     "data": {
      "image/png": "[encoded data removed]",
      "text/plain": [
       "<Figure size 432x288 with 1 Axes>"
      ]
     },
     "metadata": {
      "needs_background": "light"
     },
     "output_type": "display_data"
    }
   ],
   "source": [
    "ex_46_df.groupby([\"bias_2\", \"bias_3\", \"bias_4\"]).resp_time.hist()"
   ]
  },
  {
   "cell_type": "code",
   "execution_count": 38,
   "metadata": {},
   "outputs": [],
   "source": [
    "# Error rate"
   ]
  },
  {
   "cell_type": "code",
   "execution_count": 39,
   "metadata": {},
   "outputs": [
    {
     "data": {
      "text/html": [
       "<div>\n",
       "<style scoped>\n",
       "    .dataframe tbody tr th:only-of-type {\n",
       "        vertical-align: middle;\n",
       "    }\n",
       "\n",
       "    .dataframe tbody tr th {\n",
       "        vertical-align: top;\n",
       "    }\n",
       "\n",
       "    .dataframe thead th {\n",
       "        text-align: right;\n",
       "    }\n",
       "</style>\n",
       "<table border=\"1\" class=\"dataframe\">\n",
       "  <thead>\n",
       "    <tr style=\"text-align: right;\">\n",
       "      <th></th>\n",
       "      <th>resp_time</th>\n",
       "      <th>bytes_sent</th>\n",
       "      <th>resp_code</th>\n",
       "      <th>url</th>\n",
       "      <th>datetime</th>\n",
       "      <th>app_1_containers</th>\n",
       "      <th>app_2_containers</th>\n",
       "      <th>app_3_containers</th>\n",
       "      <th>app_4_containers</th>\n",
       "      <th>bias_2</th>\n",
       "      <th>bias_3</th>\n",
       "      <th>bias_4</th>\n",
       "    </tr>\n",
       "  </thead>\n",
       "  <tbody>\n",
       "    <tr>\n",
       "      <td>0</td>\n",
       "      <td>0.037</td>\n",
       "      <td>218</td>\n",
       "      <td>200</td>\n",
       "      <td>/3/3-3-2-2/115</td>\n",
       "      <td>2019-09-24 13:37:08</td>\n",
       "      <td>6</td>\n",
       "      <td>3</td>\n",
       "      <td>3</td>\n",
       "      <td>3</td>\n",
       "      <td>False</td>\n",
       "      <td>True</td>\n",
       "      <td>False</td>\n",
       "    </tr>\n",
       "    <tr>\n",
       "      <td>1</td>\n",
       "      <td>0.318</td>\n",
       "      <td>198</td>\n",
       "      <td>200</td>\n",
       "      <td>/2/3-4/232</td>\n",
       "      <td>2019-09-24 13:37:08</td>\n",
       "      <td>6</td>\n",
       "      <td>3</td>\n",
       "      <td>3</td>\n",
       "      <td>3</td>\n",
       "      <td>False</td>\n",
       "      <td>False</td>\n",
       "      <td>True</td>\n",
       "    </tr>\n",
       "    <tr>\n",
       "      <td>2</td>\n",
       "      <td>0.308</td>\n",
       "      <td>198</td>\n",
       "      <td>200</td>\n",
       "      <td>/3/3-4/37</td>\n",
       "      <td>2019-09-24 13:37:08</td>\n",
       "      <td>6</td>\n",
       "      <td>3</td>\n",
       "      <td>3</td>\n",
       "      <td>3</td>\n",
       "      <td>False</td>\n",
       "      <td>True</td>\n",
       "      <td>False</td>\n",
       "    </tr>\n",
       "    <tr>\n",
       "      <td>3</td>\n",
       "      <td>0.014</td>\n",
       "      <td>198</td>\n",
       "      <td>200</td>\n",
       "      <td>/3/4-3/42</td>\n",
       "      <td>2019-09-24 13:37:08</td>\n",
       "      <td>6</td>\n",
       "      <td>3</td>\n",
       "      <td>3</td>\n",
       "      <td>3</td>\n",
       "      <td>False</td>\n",
       "      <td>True</td>\n",
       "      <td>False</td>\n",
       "    </tr>\n",
       "    <tr>\n",
       "      <td>4</td>\n",
       "      <td>0.293</td>\n",
       "      <td>188</td>\n",
       "      <td>200</td>\n",
       "      <td>/4/4/223</td>\n",
       "      <td>2019-09-24 13:37:08</td>\n",
       "      <td>6</td>\n",
       "      <td>3</td>\n",
       "      <td>3</td>\n",
       "      <td>3</td>\n",
       "      <td>False</td>\n",
       "      <td>False</td>\n",
       "      <td>True</td>\n",
       "    </tr>\n",
       "    <tr>\n",
       "      <td>...</td>\n",
       "      <td>...</td>\n",
       "      <td>...</td>\n",
       "      <td>...</td>\n",
       "      <td>...</td>\n",
       "      <td>...</td>\n",
       "      <td>...</td>\n",
       "      <td>...</td>\n",
       "      <td>...</td>\n",
       "      <td>...</td>\n",
       "      <td>...</td>\n",
       "      <td>...</td>\n",
       "      <td>...</td>\n",
       "    </tr>\n",
       "    <tr>\n",
       "      <td>71794</td>\n",
       "      <td>44.029</td>\n",
       "      <td>0</td>\n",
       "      <td>499</td>\n",
       "      <td>/3/2-3-2-2/204</td>\n",
       "      <td>2019-09-24 14:07:07</td>\n",
       "      <td>6</td>\n",
       "      <td>3</td>\n",
       "      <td>3</td>\n",
       "      <td>3</td>\n",
       "      <td>True</td>\n",
       "      <td>False</td>\n",
       "      <td>False</td>\n",
       "    </tr>\n",
       "    <tr>\n",
       "      <td>71795</td>\n",
       "      <td>7.508</td>\n",
       "      <td>0</td>\n",
       "      <td>499</td>\n",
       "      <td>/4/3-3-3-3-3/181</td>\n",
       "      <td>2019-09-24 14:07:07</td>\n",
       "      <td>6</td>\n",
       "      <td>3</td>\n",
       "      <td>3</td>\n",
       "      <td>3</td>\n",
       "      <td>False</td>\n",
       "      <td>True</td>\n",
       "      <td>False</td>\n",
       "    </tr>\n",
       "    <tr>\n",
       "      <td>71796</td>\n",
       "      <td>11.226</td>\n",
       "      <td>0</td>\n",
       "      <td>499</td>\n",
       "      <td>/3/2-3-3-2/107</td>\n",
       "      <td>2019-09-24 14:07:07</td>\n",
       "      <td>6</td>\n",
       "      <td>3</td>\n",
       "      <td>3</td>\n",
       "      <td>3</td>\n",
       "      <td>False</td>\n",
       "      <td>True</td>\n",
       "      <td>False</td>\n",
       "    </tr>\n",
       "    <tr>\n",
       "      <td>71797</td>\n",
       "      <td>5.565</td>\n",
       "      <td>0</td>\n",
       "      <td>499</td>\n",
       "      <td>/3/2-3-2-2/212</td>\n",
       "      <td>2019-09-24 14:07:07</td>\n",
       "      <td>6</td>\n",
       "      <td>3</td>\n",
       "      <td>3</td>\n",
       "      <td>3</td>\n",
       "      <td>True</td>\n",
       "      <td>False</td>\n",
       "      <td>False</td>\n",
       "    </tr>\n",
       "    <tr>\n",
       "      <td>71798</td>\n",
       "      <td>6.115</td>\n",
       "      <td>0</td>\n",
       "      <td>499</td>\n",
       "      <td>/4/4-4-3-4/16</td>\n",
       "      <td>2019-09-24 14:07:07</td>\n",
       "      <td>6</td>\n",
       "      <td>3</td>\n",
       "      <td>3</td>\n",
       "      <td>3</td>\n",
       "      <td>False</td>\n",
       "      <td>False</td>\n",
       "      <td>True</td>\n",
       "    </tr>\n",
       "  </tbody>\n",
       "</table>\n",
       "<p>71799 rows × 12 columns</p>\n",
       "</div>"
      ],
      "text/plain": [
       "       resp_time bytes_sent resp_code               url             datetime  \\\n",
       "0          0.037        218       200    /3/3-3-2-2/115  2019-09-24 13:37:08   \n",
       "1          0.318        198       200        /2/3-4/232  2019-09-24 13:37:08   \n",
       "2          0.308        198       200         /3/3-4/37  2019-09-24 13:37:08   \n",
       "3          0.014        198       200         /3/4-3/42  2019-09-24 13:37:08   \n",
       "4          0.293        188       200          /4/4/223  2019-09-24 13:37:08   \n",
       "...          ...        ...       ...               ...                  ...   \n",
       "71794     44.029          0       499    /3/2-3-2-2/204  2019-09-24 14:07:07   \n",
       "71795      7.508          0       499  /4/3-3-3-3-3/181  2019-09-24 14:07:07   \n",
       "71796     11.226          0       499    /3/2-3-3-2/107  2019-09-24 14:07:07   \n",
       "71797      5.565          0       499    /3/2-3-2-2/212  2019-09-24 14:07:07   \n",
       "71798      6.115          0       499     /4/4-4-3-4/16  2019-09-24 14:07:07   \n",
       "\n",
       "       app_1_containers  app_2_containers  app_3_containers  app_4_containers  \\\n",
       "0                     6                 3                 3                 3   \n",
       "1                     6                 3                 3                 3   \n",
       "2                     6                 3                 3                 3   \n",
       "3                     6                 3                 3                 3   \n",
       "4                     6                 3                 3                 3   \n",
       "...                 ...               ...               ...               ...   \n",
       "71794                 6                 3                 3                 3   \n",
       "71795                 6                 3                 3                 3   \n",
       "71796                 6                 3                 3                 3   \n",
       "71797                 6                 3                 3                 3   \n",
       "71798                 6                 3                 3                 3   \n",
       "\n",
       "       bias_2  bias_3  bias_4  \n",
       "0       False    True   False  \n",
       "1       False   False    True  \n",
       "2       False    True   False  \n",
       "3       False    True   False  \n",
       "4       False   False    True  \n",
       "...       ...     ...     ...  \n",
       "71794    True   False   False  \n",
       "71795   False    True   False  \n",
       "71796   False    True   False  \n",
       "71797    True   False   False  \n",
       "71798   False   False    True  \n",
       "\n",
       "[71799 rows x 12 columns]"
      ]
     },
     "execution_count": 39,
     "metadata": {},
     "output_type": "execute_result"
    }
   ],
   "source": [
    "ex_16_df"
   ]
  },
  {
   "cell_type": "code",
   "execution_count": 40,
   "metadata": {},
   "outputs": [
    {
     "data": {
      "text/plain": [
       "200    70289\n",
       "110      579\n",
       "504      579\n",
       "499      352\n",
       "Name: resp_code, dtype: int64"
      ]
     },
     "execution_count": 40,
     "metadata": {},
     "output_type": "execute_result"
    }
   ],
   "source": [
    "ex_16_df.resp_code.value_counts()"
   ]
  },
  {
   "cell_type": "code",
   "execution_count": 41,
   "metadata": {},
   "outputs": [
    {
     "data": {
      "text/plain": [
       "200    70299\n",
       "110      491\n",
       "504      491\n",
       "499      351\n",
       "Name: resp_code, dtype: int64"
      ]
     },
     "execution_count": 41,
     "metadata": {},
     "output_type": "execute_result"
    }
   ],
   "source": [
    "ex_26_df.resp_code.value_counts()"
   ]
  },
  {
   "cell_type": "code",
   "execution_count": 42,
   "metadata": {},
   "outputs": [
    {
     "data": {
      "text/plain": [
       "200    71369\n",
       "110      472\n",
       "504      472\n",
       "499      328\n",
       "Name: resp_code, dtype: int64"
      ]
     },
     "execution_count": 42,
     "metadata": {},
     "output_type": "execute_result"
    }
   ],
   "source": [
    "ex_36_df.resp_code.value_counts()"
   ]
  },
  {
   "cell_type": "code",
   "execution_count": 43,
   "metadata": {},
   "outputs": [
    {
     "data": {
      "text/plain": [
       "200    71439\n",
       "110      611\n",
       "504      611\n",
       "499      343\n",
       "Name: resp_code, dtype: int64"
      ]
     },
     "execution_count": 43,
     "metadata": {},
     "output_type": "execute_result"
    }
   ],
   "source": [
    "ex_46_df.resp_code.value_counts()"
   ]
  },
  {
   "cell_type": "code",
   "execution_count": null,
   "metadata": {},
   "outputs": [],
   "source": []
  }
 ],
 "metadata": {
  "kernelspec": {
   "display_name": ".micro",
   "language": "python",
   "name": ".micro"
  },
  "language_info": {
   "codemirror_mode": {
    "name": "ipython",
    "version": 3
   },
   "file_extension": ".py",
   "mimetype": "text/x-python",
   "name": "python",
   "nbconvert_exporter": "python",
   "pygments_lexer": "ipython3",
   "version": "3.7.4"
  }
 },
 "nbformat": 4,
 "nbformat_minor": 4
}
