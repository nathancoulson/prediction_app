{
 "cells": [
  {
   "cell_type": "code",
   "execution_count": null,
   "metadata": {},
   "outputs": [],
   "source": [
    "import pandas as pd\n",
    "import os\n",
    "import sys\n",
    "import numpy as np\n",
    "import matplotlib.pyplot as plt\n",
    "import keras\n",
    "import datetime\n",
    "from keras.models import Sequential\n",
    "from keras.layers import LSTM\n",
    "from keras.layers import Dense\n",
    "from numpy import array\n",
    "from keras.models import Sequential\n",
    "from keras.layers import Dense\n",
    "from keras.wrappers.scikit_learn import KerasClassifier\n",
    "from sklearn.model_selection import GridSearchCV\n",
    "import pickle\n",
    "import re\n",
    "import tensorflow as tf\n",
    "from Modelling_Module.model_evaluation_lstm import most_common, reveal_bias, add_bias_labels, create_reqset_dict, get_reqset_bias, get_app_bias_error\n",
    "\n",
    "config = tf.ConfigProto()\n",
    "config.gpu_options.allow_growth = True\n",
    "session = tf.Session(config=config)\n",
    "\n",
    "tf.keras.backend.set_session(session)\n",
    "\n",
    "pd.set_option('display.max_columns', 999)\n",
    "pd.set_option('display.max_rows', 500)"
   ]
  },
  {
   "cell_type": "markdown",
   "metadata": {},
   "source": [
    "# LSTM single model run"
   ]
  },
  {
   "cell_type": "code",
   "execution_count": null,
   "metadata": {},
   "outputs": [],
   "source": [
    "path = './Datasets/'\n",
    "model_path = './Models/'\n",
    "\n",
    "# Read in config file - column list\n",
    "\n",
    "cumsum_cols_p = open(path + 'cumsum_cols.pkl', 'rb')\n",
    "cumsum_cols = pickle.load(cumsum_cols_p)"
   ]
  },
  {
   "cell_type": "code",
   "execution_count": null,
   "metadata": {},
   "outputs": [],
   "source": [
    "# Read in prepared datasets\n",
    "\n",
    "X_val_p = open(path + 'X_val.pkl', 'rb')\n",
    "X_val = pickle.load(X_val_p)\n",
    "\n",
    "sub_y_val_p = open(path + 'y_val.pkl', 'rb')\n",
    "sub_y_val = pickle.load(sub_y_val_p)\n",
    "\n",
    "X_train_p = open(path + 'X_train.pkl', 'rb')\n",
    "X = pickle.load(X_train_p)\n",
    "\n",
    "y_train_p = open(path + 'y_train.pkl', 'rb')\n",
    "sub_y = pickle.load(y_train_p)\n",
    "\n",
    "X_test_p = open(path + 'X_test.pkl', 'rb')\n",
    "X_test = pickle.load(X_test_p)\n",
    "\n",
    "y_test_p = open(path + 'y_test.pkl', 'rb')\n",
    "sub_y_test = pickle.load(y_test_p)"
   ]
  },
  {
   "cell_type": "code",
   "execution_count": null,
   "metadata": {},
   "outputs": [],
   "source": [
    "# define model - based on chosen model from grid search\n",
    "\n",
    "model = Sequential()\n",
    "model.add(LSTM(125, return_sequences=True, input_shape=(1000, 129)))\n",
    "model.add(LSTM(125, return_sequences=True))\n",
    "model.add(LSTM(125))\n",
    "model.add(Dense(129))\n",
    "model.compile(loss='mae', optimizer=keras.optimizers.Adam(lr=0.01))\n",
    "\n",
    "# fit model\n",
    "\n",
    "history = model.fit(X, sub_y, batch_size=128, epochs=1, validation_data=(X_val, sub_y_val), shuffle=False)"
   ]
  },
  {
   "cell_type": "code",
   "execution_count": null,
   "metadata": {},
   "outputs": [],
   "source": [
    "# evaluate model by MAE\n",
    "\n",
    "loss = model.evaluate(X_test, sub_y_test, verbose=0)\n",
    "loss_string = 'MAE: %f' % loss\n",
    "\n",
    "# compared predicted request set \"app bias\" with actual \"app bias\"\n",
    "\n",
    "app_bias_list = get_app_bias_error(X_test, sub_y_test, model, cumsum_cols)\n",
    "\n",
    "app_bias_df = pd.DataFrame(app_bias_list)\n",
    "\n",
    "app_bias_mean = app_bias_df.mean().mean()\n",
    "\n",
    "# save model data in dictionary\n",
    "\n",
    "model_dict = {\n",
    "    \"model-json\": model.to_json(),\n",
    "    \"model-history\": history.history,\n",
    "    \"MAE-holdout-set\": loss_string,\n",
    "    \"app-bias-mean-holdout-set\": app_bias_mean,\n",
    "    \"model-object\": model\n",
    "}\n",
    "\n",
    "print(model_dict)\n",
    "\n",
    "with open(model_path + 'LSTM_model.pkl', 'wb') as f:\n",
    "    pickle.dump(model_dict, f)"
   ]
  }
 ],
 "metadata": {
  "kernelspec": {
   "display_name": ".micro",
   "language": "python",
   "name": ".micro"
  },
  "language_info": {
   "codemirror_mode": {
    "name": "ipython",
    "version": 3
   },
   "file_extension": ".py",
   "mimetype": "text/x-python",
   "name": "python",
   "nbconvert_exporter": "python",
   "pygments_lexer": "ipython3",
   "version": "3.7.4"
  }
 },
 "nbformat": 4,
 "nbformat_minor": 4
}
