{
 "cells": [
  {
   "cell_type": "code",
   "execution_count": null,
   "metadata": {},
   "outputs": [],
   "source": [
    "import pandas as pd\n",
    "import os\n",
    "import numpy as np\n",
    "import matplotlib.pyplot as plt"
   ]
  },
  {
   "cell_type": "code",
   "execution_count": null,
   "metadata": {},
   "outputs": [],
   "source": [
    "log_df = pd.read_parquet(\"logs.parquet\")"
   ]
  },
  {
   "cell_type": "code",
   "execution_count": null,
   "metadata": {},
   "outputs": [],
   "source": [
    "# Feature transformations\n",
    "\n",
    "# Convert resp_time and bytes_setn into float\n",
    "\n",
    "log_df.resp_time = log_df.resp_time.astype(\"float\")\n",
    "log_df.bytes_sent = log_df.bytes_sent.astype(\"float\")\n",
    "\n",
    "# Convert datetime string into Pandas Datetime\n",
    "\n",
    "log_df.datetime = pd.to_datetime(log_df.datetime,\n",
    "                                    format=\"%Y-%m-%d %H:%M:%S\")\n",
    "\n",
    "# Create categorical variables\n",
    "\n",
    "log_df = pd.get_dummies(log_df, columns = ['resp_code'])\n",
    "log_df = pd.get_dummies(log_df, columns = ['url'])\n"
   ]
  },
  {
   "cell_type": "code",
   "execution_count": null,
   "metadata": {},
   "outputs": [],
   "source": [
    "log_df.tail(10)"
   ]
  },
  {
   "cell_type": "code",
   "execution_count": null,
   "metadata": {},
   "outputs": [],
   "source": [
    "log_df.info()"
   ]
  },
  {
   "cell_type": "code",
   "execution_count": null,
   "metadata": {},
   "outputs": [],
   "source": [
    "log_df.shape"
   ]
  },
  {
   "cell_type": "code",
   "execution_count": null,
   "metadata": {},
   "outputs": [],
   "source": [
    "# EDA response time\n",
    "\n",
    "log_df.resp_time.hist(bins=20)\n",
    "\n",
    "# Compare response time where all apps where replicated 3X to where only one was\n",
    "\n",
    "log_df[\"all_x_3\"] = (log_df.app_1_containers == 3) & (log_df.app_2_containers == 3) & (log_df.app_3_containers == 3) & (log_df.app_4_containers == 3)\n",
    "\n",
    "log_df[\"2_x_3\"] = (log_df.app_1_containers == 1) & (log_df.app_2_containers == 3) & (log_df.app_3_containers == 1) & (log_df.app_4_containers == 1)\n",
    "\n",
    "log_df[\"3_x_3\"] = (log_df.app_1_containers == 1) & (log_df.app_2_containers == 1) & (log_df.app_3_containers == 3) & (log_df.app_4_containers == 1)\n",
    "\n",
    "log_df[\"3_x_3\"] = (log_df.app_1_containers == 1) & (log_df.app_2_containers == 1) & (log_df.app_3_containers == 3) & (log_df.app_4_containers == 1)\n",
    "\n",
    "log_df[\"4_x_3\"] = (log_df.app_1_containers == 1) & (log_df.app_2_containers == 1) & (log_df.app_3_containers == 1) & (log_df.app_4_containers == 4)\n",
    "\n",
    "log_df[\"23_x_6\"] = (log_df.app_1_containers == 2) & (log_df.app_2_containers == 6) & (log_df.app_3_containers == 6) & (log_df.app_4_containers == 2)\n",
    "\n",
    "log_df[\"2_x_3\"].value_counts()\n",
    "\n",
    "log_df[\"3_x_3\"].value_counts()\n",
    "\n",
    "log_df[\"4_x_3\"].value_counts()\n",
    "\n",
    "log_df[\"23_x_6\"].value_counts()\n",
    "\n",
    "log_df[\"all_x_3\"].value_counts()\n",
    "\n",
    "log_df[log_df[\"all_x_3\"] == True].resp_time.hist(bins=20)\n",
    "\n",
    "log_df[log_df[\"2_x_3\"] == True].resp_time.hist(bins=20)\n",
    "\n",
    "log_df[log_df[\"3_x_3\"] == True].resp_time.hist(bins=20)\n",
    "\n",
    "log_df[log_df[\"4_x_3\"] == True].resp_time.hist(bins=20)\n",
    "\n",
    "log_df[log_df[\"23_x_6\"] == True].resp_time.hist(bins=20)"
   ]
  },
  {
   "cell_type": "code",
   "execution_count": null,
   "metadata": {},
   "outputs": [],
   "source": [
    "# What about errors\n",
    "\n",
    "(log_df.resp_time.isna().sum() / (len(log_df))) * 100\n",
    "\n",
    "# 5% error rate overall. What is the distribution over container patterns?"
   ]
  },
  {
   "cell_type": "code",
   "execution_count": null,
   "metadata": {},
   "outputs": [],
   "source": [
    "log_df.columns.tolist()"
   ]
  }
 ],
 "metadata": {
  "kernelspec": {
   "display_name": ".micro",
   "language": "python",
   "name": ".micro"
  },
  "language_info": {
   "codemirror_mode": {
    "name": "ipython",
    "version": 3
   },
   "file_extension": ".py",
   "mimetype": "text/x-python",
   "name": "python",
   "nbconvert_exporter": "python",
   "pygments_lexer": "ipython3",
   "version": "3.7.4"
  }
 },
 "nbformat": 4,
 "nbformat_minor": 4
}
