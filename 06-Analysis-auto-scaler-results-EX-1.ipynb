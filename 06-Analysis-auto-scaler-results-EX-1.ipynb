{
 "cells": [
  {
   "cell_type": "code",
   "execution_count": 1,
   "metadata": {},
   "outputs": [],
   "source": [
    "import pandas as pd\n",
    "import matplotlib.pyplot as plt\n",
    "import re"
   ]
  },
  {
   "cell_type": "code",
   "execution_count": 2,
   "metadata": {},
   "outputs": [],
   "source": [
    "# Eval transformation functions\n",
    "\n",
    "def most_common(lst): \n",
    "    return max(set(lst), key = lst.count)\n",
    "\n",
    "def reveal_bias(url):\n",
    "    path = url.split('/', 1)[1]\n",
    "    apps = re.sub('[/-]', ' ',path).split()[:-1]\n",
    "    return most_common(apps)\n",
    "\n",
    "def add_bias_labels(col_lst):\n",
    "    for i in range(len(col_lst)):\n",
    "        col_lst[i] = col_lst[i] + \"-bias-\" + reveal_bias(col_lst[i])\n",
    "    return col_lst"
   ]
  },
  {
   "cell_type": "code",
   "execution_count": 3,
   "metadata": {},
   "outputs": [],
   "source": [
    "ex_1_df = pd.read_parquet(\"./Auto-scaling-results/ex-1-logs.parquet\")\n",
    "ex_2_df = pd.read_parquet(\"./Auto-scaling-results/ex-2-logs.parquet\")"
   ]
  },
  {
   "cell_type": "code",
   "execution_count": 4,
   "metadata": {},
   "outputs": [],
   "source": [
    "ex_1_df.resp_time = ex_1_df.resp_time.astype(float)\n",
    "ex_2_df.resp_time = ex_2_df.resp_time.astype(float)"
   ]
  },
  {
   "cell_type": "code",
   "execution_count": null,
   "metadata": {},
   "outputs": [],
   "source": [
    "'''\n",
    "ex_1_df = pd.get_dummies(ex_1_df, columns = ['url'])\n",
    "ex_2_df = pd.get_dummies(ex_2_df, columns = ['url'])\n",
    "'''"
   ]
  },
  {
   "cell_type": "code",
   "execution_count": 5,
   "metadata": {},
   "outputs": [
    {
     "data": {
      "text/plain": [
       "24.938720609947968"
      ]
     },
     "execution_count": 5,
     "metadata": {},
     "output_type": "execute_result"
    }
   ],
   "source": [
    "ex_1_df.resp_time.mean()"
   ]
  },
  {
   "cell_type": "code",
   "execution_count": 6,
   "metadata": {},
   "outputs": [
    {
     "data": {
      "text/plain": [
       "25.910016438001545"
      ]
     },
     "execution_count": 6,
     "metadata": {},
     "output_type": "execute_result"
    }
   ],
   "source": [
    "ex_2_df.resp_time.mean()"
   ]
  },
  {
   "cell_type": "code",
   "execution_count": null,
   "metadata": {},
   "outputs": [],
   "source": [
    "url_features = ex_1_df.url.unique().tolist()"
   ]
  },
  {
   "cell_type": "code",
   "execution_count": null,
   "metadata": {},
   "outputs": [],
   "source": [
    "bias_lst = add_bias_labels(url_features)"
   ]
  },
  {
   "cell_type": "code",
   "execution_count": null,
   "metadata": {},
   "outputs": [],
   "source": [
    "bias_2 = [x[:-7] for x in bias_lst if \"bias-2\" in x]\n",
    "bias_3 = [x[:-7] for x in bias_lst if \"bias-3\" in x]\n",
    "bias_4 = [x[:-7] for x in bias_lst if \"bias-4\" in x]"
   ]
  },
  {
   "cell_type": "code",
   "execution_count": null,
   "metadata": {},
   "outputs": [],
   "source": [
    "def is_bias(url, lst):\n",
    "    if url in lst:\n",
    "        return True\n",
    "    else:\n",
    "        return False"
   ]
  },
  {
   "cell_type": "code",
   "execution_count": null,
   "metadata": {},
   "outputs": [],
   "source": [
    "for df in [ex_1_df, ex_2_df]:\n",
    "    df[\"bias_2\"] = df[\"url\"].apply(lambda x: is_bias(x, bias_2))\n",
    "    df[\"bias_3\"] = df[\"url\"].apply(lambda x: is_bias(x, bias_3))\n",
    "    df[\"bias_4\"] = df[\"url\"].apply(lambda x: is_bias(x, bias_4))"
   ]
  },
  {
   "cell_type": "code",
   "execution_count": null,
   "metadata": {},
   "outputs": [],
   "source": [
    "ex_1_df"
   ]
  },
  {
   "cell_type": "code",
   "execution_count": null,
   "metadata": {},
   "outputs": [],
   "source": [
    "ex_1_df.groupby([\"bias_2\", \"bias_3\", \"bias_4\"]).resp_time.hist()"
   ]
  },
  {
   "cell_type": "code",
   "execution_count": null,
   "metadata": {},
   "outputs": [],
   "source": [
    "ex_1_df[ex_1_df[\"bias_2\"] == True].resp_time.hist()"
   ]
  },
  {
   "cell_type": "code",
   "execution_count": null,
   "metadata": {},
   "outputs": [],
   "source": [
    "ex_1_df[ex_1_df[\"bias_3\"] == True].resp_time.hist()"
   ]
  },
  {
   "cell_type": "code",
   "execution_count": null,
   "metadata": {},
   "outputs": [],
   "source": [
    "ex_1_df[ex_1_df[\"bias_4\"] == True].resp_time.hist()"
   ]
  },
  {
   "cell_type": "code",
   "execution_count": null,
   "metadata": {},
   "outputs": [],
   "source": [
    "ex_2_df.groupby([\"bias_2\", \"bias_3\", \"bias_4\"]).resp_time.hist()"
   ]
  },
  {
   "cell_type": "code",
   "execution_count": null,
   "metadata": {},
   "outputs": [],
   "source": [
    "ex_2_df[ex_2_df[\"bias_2\"] == True].resp_time.hist()"
   ]
  },
  {
   "cell_type": "code",
   "execution_count": null,
   "metadata": {},
   "outputs": [],
   "source": [
    "ex_2_df[ex_2_df[\"bias_3\"] == True].resp_time.hist()"
   ]
  },
  {
   "cell_type": "code",
   "execution_count": null,
   "metadata": {},
   "outputs": [],
   "source": [
    "ex_2_df[ex_2_df[\"bias_3\"] == True].resp_time.hist()"
   ]
  },
  {
   "cell_type": "code",
   "execution_count": null,
   "metadata": {},
   "outputs": [],
   "source": [
    "# Error rate"
   ]
  },
  {
   "cell_type": "code",
   "execution_count": null,
   "metadata": {},
   "outputs": [],
   "source": [
    "ex_1_df"
   ]
  },
  {
   "cell_type": "code",
   "execution_count": null,
   "metadata": {},
   "outputs": [],
   "source": [
    "ex_1_df.resp_code.value_counts()"
   ]
  },
  {
   "cell_type": "code",
   "execution_count": null,
   "metadata": {},
   "outputs": [],
   "source": [
    "ex_2_df.resp_code.value_counts()"
   ]
  }
 ],
 "metadata": {
  "kernelspec": {
   "display_name": ".micro",
   "language": "python",
   "name": ".micro"
  },
  "language_info": {
   "codemirror_mode": {
    "name": "ipython",
    "version": 3
   },
   "file_extension": ".py",
   "mimetype": "text/x-python",
   "name": "python",
   "nbconvert_exporter": "python",
   "pygments_lexer": "ipython3",
   "version": "3.7.4"
  }
 },
 "nbformat": 4,
 "nbformat_minor": 4
}
