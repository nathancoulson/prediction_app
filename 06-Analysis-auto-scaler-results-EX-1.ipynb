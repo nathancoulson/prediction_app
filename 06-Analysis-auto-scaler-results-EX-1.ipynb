{
 "cells": [
  {
   "cell_type": "code",
   "execution_count": 1,
   "metadata": {},
   "outputs": [],
   "source": [
    "import pandas as pd\n",
    "import matplotlib.pyplot as plt\n",
    "import re"
   ]
  },
  {
   "cell_type": "code",
   "execution_count": 2,
   "metadata": {},
   "outputs": [],
   "source": [
    "# Eval transformation functions\n",
    "\n",
    "def most_common(lst): \n",
    "    return max(set(lst), key = lst.count)\n",
    "\n",
    "def reveal_bias(url):\n",
    "    path = url.split('/', 1)[1]\n",
    "    apps = re.sub('[/-]', ' ',path).split()[:-1]\n",
    "    return most_common(apps)\n",
    "\n",
    "def add_bias_labels(col_lst):\n",
    "    for i in range(len(col_lst)):\n",
    "        col_lst[i] = col_lst[i] + \"-bias-\" + reveal_bias(col_lst[i])\n",
    "    return col_lst"
   ]
  },
  {
   "cell_type": "code",
   "execution_count": 3,
   "metadata": {},
   "outputs": [],
   "source": [
    "ex_1_df = pd.read_parquet(\"./Auto-scaling-results/ex-1-logs.parquet\")\n",
    "ex_2_df = pd.read_parquet(\"./Auto-scaling-results/ex-2-logs.parquet\")"
   ]
  },
  {
   "cell_type": "code",
   "execution_count": 5,
   "metadata": {},
   "outputs": [],
   "source": [
    "ex_1_df.resp_time = ex_1_df.resp_time.astype(float)\n",
    "ex_2_df.resp_time = ex_2_df.resp_time.astype(float)"
   ]
  },
  {
   "cell_type": "code",
   "execution_count": 6,
   "metadata": {},
   "outputs": [
    {
     "data": {
      "text/plain": [
       "\"\\nex_1_df = pd.get_dummies(ex_1_df, columns = ['url'])\\nex_2_df = pd.get_dummies(ex_2_df, columns = ['url'])\\n\""
      ]
     },
     "execution_count": 6,
     "metadata": {},
     "output_type": "execute_result"
    }
   ],
   "source": [
    "'''\n",
    "ex_1_df = pd.get_dummies(ex_1_df, columns = ['url'])\n",
    "ex_2_df = pd.get_dummies(ex_2_df, columns = ['url'])\n",
    "'''"
   ]
  },
  {
   "cell_type": "code",
   "execution_count": 6,
   "metadata": {},
   "outputs": [
    {
     "data": {
      "text/plain": [
       "24.938720609947968"
      ]
     },
     "execution_count": 6,
     "metadata": {},
     "output_type": "execute_result"
    }
   ],
   "source": [
    "ex_1_df.resp_time.mean()"
   ]
  },
  {
   "cell_type": "code",
   "execution_count": 7,
   "metadata": {},
   "outputs": [
    {
     "data": {
      "text/plain": [
       "25.910016438001545"
      ]
     },
     "execution_count": 7,
     "metadata": {},
     "output_type": "execute_result"
    }
   ],
   "source": [
    "ex_2_df.resp_time.mean()"
   ]
  },
  {
   "cell_type": "code",
   "execution_count": 8,
   "metadata": {},
   "outputs": [],
   "source": [
    "url_features = ex_1_df.url.unique().tolist()"
   ]
  },
  {
   "cell_type": "code",
   "execution_count": 9,
   "metadata": {},
   "outputs": [],
   "source": [
    "bias_lst = add_bias_labels(url_features)"
   ]
  },
  {
   "cell_type": "code",
   "execution_count": 11,
   "metadata": {},
   "outputs": [],
   "source": [
    "bias_2 = [x[:-7] for x in bias_lst if \"bias-2\" in x]\n",
    "bias_3 = [x[:-7] for x in bias_lst if \"bias-3\" in x]\n",
    "bias_4 = [x[:-7] for x in bias_lst if \"bias-4\" in x]"
   ]
  },
  {
   "cell_type": "code",
   "execution_count": 13,
   "metadata": {},
   "outputs": [],
   "source": [
    "def is_bias(url, lst):\n",
    "    if url in lst:\n",
    "        return True\n",
    "    else:\n",
    "        return False"
   ]
  },
  {
   "cell_type": "code",
   "execution_count": 14,
   "metadata": {},
   "outputs": [],
   "source": [
    "for df in [ex_1_df, ex_2_df]:\n",
    "    df[\"bias_2\"] = df[\"url\"].apply(lambda x: is_bias(x, bias_2))\n",
    "    df[\"bias_3\"] = df[\"url\"].apply(lambda x: is_bias(x, bias_3))\n",
    "    df[\"bias_4\"] = df[\"url\"].apply(lambda x: is_bias(x, bias_4))"
   ]
  },
  {
   "cell_type": "code",
   "execution_count": 15,
   "metadata": {},
   "outputs": [
    {
     "data": {
      "text/html": [
       "<div>\n",
       "<style scoped>\n",
       "    .dataframe tbody tr th:only-of-type {\n",
       "        vertical-align: middle;\n",
       "    }\n",
       "\n",
       "    .dataframe tbody tr th {\n",
       "        vertical-align: top;\n",
       "    }\n",
       "\n",
       "    .dataframe thead th {\n",
       "        text-align: right;\n",
       "    }\n",
       "</style>\n",
       "<table border=\"1\" class=\"dataframe\">\n",
       "  <thead>\n",
       "    <tr style=\"text-align: right;\">\n",
       "      <th></th>\n",
       "      <th>resp_time</th>\n",
       "      <th>bytes_sent</th>\n",
       "      <th>resp_code</th>\n",
       "      <th>url</th>\n",
       "      <th>datetime</th>\n",
       "      <th>app_1_containers</th>\n",
       "      <th>app_2_containers</th>\n",
       "      <th>app_3_containers</th>\n",
       "      <th>app_4_containers</th>\n",
       "      <th>bias_2</th>\n",
       "      <th>bias_3</th>\n",
       "      <th>bias_4</th>\n",
       "    </tr>\n",
       "  </thead>\n",
       "  <tbody>\n",
       "    <tr>\n",
       "      <td>0</td>\n",
       "      <td>0.113</td>\n",
       "      <td>218</td>\n",
       "      <td>200</td>\n",
       "      <td>/3/3-3-2-2/115</td>\n",
       "      <td>2019-09-23 20:26:34</td>\n",
       "      <td>3</td>\n",
       "      <td>3</td>\n",
       "      <td>3</td>\n",
       "      <td>3</td>\n",
       "      <td>False</td>\n",
       "      <td>True</td>\n",
       "      <td>False</td>\n",
       "    </tr>\n",
       "    <tr>\n",
       "      <td>1</td>\n",
       "      <td>0.108</td>\n",
       "      <td>218</td>\n",
       "      <td>200</td>\n",
       "      <td>/2/3-3-3-3/125</td>\n",
       "      <td>2019-09-23 20:26:34</td>\n",
       "      <td>3</td>\n",
       "      <td>3</td>\n",
       "      <td>3</td>\n",
       "      <td>3</td>\n",
       "      <td>False</td>\n",
       "      <td>True</td>\n",
       "      <td>False</td>\n",
       "    </tr>\n",
       "    <tr>\n",
       "      <td>2</td>\n",
       "      <td>0.352</td>\n",
       "      <td>188</td>\n",
       "      <td>200</td>\n",
       "      <td>/4/4/231</td>\n",
       "      <td>2019-09-23 20:26:34</td>\n",
       "      <td>3</td>\n",
       "      <td>3</td>\n",
       "      <td>3</td>\n",
       "      <td>3</td>\n",
       "      <td>False</td>\n",
       "      <td>False</td>\n",
       "      <td>True</td>\n",
       "    </tr>\n",
       "    <tr>\n",
       "      <td>3</td>\n",
       "      <td>0.037</td>\n",
       "      <td>198</td>\n",
       "      <td>200</td>\n",
       "      <td>/3/3-2/82</td>\n",
       "      <td>2019-09-23 20:26:34</td>\n",
       "      <td>3</td>\n",
       "      <td>3</td>\n",
       "      <td>3</td>\n",
       "      <td>3</td>\n",
       "      <td>False</td>\n",
       "      <td>True</td>\n",
       "      <td>False</td>\n",
       "    </tr>\n",
       "    <tr>\n",
       "      <td>4</td>\n",
       "      <td>0.425</td>\n",
       "      <td>227</td>\n",
       "      <td>200</td>\n",
       "      <td>/2/3-2-3-4-2/94</td>\n",
       "      <td>2019-09-23 20:26:34</td>\n",
       "      <td>3</td>\n",
       "      <td>3</td>\n",
       "      <td>3</td>\n",
       "      <td>3</td>\n",
       "      <td>True</td>\n",
       "      <td>False</td>\n",
       "      <td>False</td>\n",
       "    </tr>\n",
       "    <tr>\n",
       "      <td>...</td>\n",
       "      <td>...</td>\n",
       "      <td>...</td>\n",
       "      <td>...</td>\n",
       "      <td>...</td>\n",
       "      <td>...</td>\n",
       "      <td>...</td>\n",
       "      <td>...</td>\n",
       "      <td>...</td>\n",
       "      <td>...</td>\n",
       "      <td>...</td>\n",
       "      <td>...</td>\n",
       "      <td>...</td>\n",
       "    </tr>\n",
       "    <tr>\n",
       "      <td>141312</td>\n",
       "      <td>14.095</td>\n",
       "      <td>0</td>\n",
       "      <td>499</td>\n",
       "      <td>/2/3-3-3-3/84</td>\n",
       "      <td>2019-09-23 22:42:05</td>\n",
       "      <td>3</td>\n",
       "      <td>3</td>\n",
       "      <td>3</td>\n",
       "      <td>3</td>\n",
       "      <td>False</td>\n",
       "      <td>True</td>\n",
       "      <td>False</td>\n",
       "    </tr>\n",
       "    <tr>\n",
       "      <td>141313</td>\n",
       "      <td>17.632</td>\n",
       "      <td>0</td>\n",
       "      <td>499</td>\n",
       "      <td>/4/3-4-4-3/216</td>\n",
       "      <td>2019-09-23 22:42:05</td>\n",
       "      <td>3</td>\n",
       "      <td>3</td>\n",
       "      <td>3</td>\n",
       "      <td>3</td>\n",
       "      <td>False</td>\n",
       "      <td>False</td>\n",
       "      <td>True</td>\n",
       "    </tr>\n",
       "    <tr>\n",
       "      <td>141314</td>\n",
       "      <td>10.627</td>\n",
       "      <td>0</td>\n",
       "      <td>499</td>\n",
       "      <td>/2/3-4-2-3/152</td>\n",
       "      <td>2019-09-23 22:42:05</td>\n",
       "      <td>3</td>\n",
       "      <td>3</td>\n",
       "      <td>3</td>\n",
       "      <td>3</td>\n",
       "      <td>False</td>\n",
       "      <td>True</td>\n",
       "      <td>False</td>\n",
       "    </tr>\n",
       "    <tr>\n",
       "      <td>141315</td>\n",
       "      <td>28.662</td>\n",
       "      <td>0</td>\n",
       "      <td>499</td>\n",
       "      <td>/3/4-2-3-4/56</td>\n",
       "      <td>2019-09-23 22:42:05</td>\n",
       "      <td>3</td>\n",
       "      <td>3</td>\n",
       "      <td>3</td>\n",
       "      <td>3</td>\n",
       "      <td>False</td>\n",
       "      <td>False</td>\n",
       "      <td>True</td>\n",
       "    </tr>\n",
       "    <tr>\n",
       "      <td>141316</td>\n",
       "      <td>12.560</td>\n",
       "      <td>198</td>\n",
       "      <td>200</td>\n",
       "      <td>/3/3-4/115</td>\n",
       "      <td>2019-09-23 22:42:18</td>\n",
       "      <td>3</td>\n",
       "      <td>3</td>\n",
       "      <td>3</td>\n",
       "      <td>3</td>\n",
       "      <td>False</td>\n",
       "      <td>True</td>\n",
       "      <td>False</td>\n",
       "    </tr>\n",
       "  </tbody>\n",
       "</table>\n",
       "<p>141317 rows × 12 columns</p>\n",
       "</div>"
      ],
      "text/plain": [
       "        resp_time bytes_sent resp_code              url             datetime  \\\n",
       "0           0.113        218       200   /3/3-3-2-2/115  2019-09-23 20:26:34   \n",
       "1           0.108        218       200   /2/3-3-3-3/125  2019-09-23 20:26:34   \n",
       "2           0.352        188       200         /4/4/231  2019-09-23 20:26:34   \n",
       "3           0.037        198       200        /3/3-2/82  2019-09-23 20:26:34   \n",
       "4           0.425        227       200  /2/3-2-3-4-2/94  2019-09-23 20:26:34   \n",
       "...           ...        ...       ...              ...                  ...   \n",
       "141312     14.095          0       499    /2/3-3-3-3/84  2019-09-23 22:42:05   \n",
       "141313     17.632          0       499   /4/3-4-4-3/216  2019-09-23 22:42:05   \n",
       "141314     10.627          0       499   /2/3-4-2-3/152  2019-09-23 22:42:05   \n",
       "141315     28.662          0       499    /3/4-2-3-4/56  2019-09-23 22:42:05   \n",
       "141316     12.560        198       200       /3/3-4/115  2019-09-23 22:42:18   \n",
       "\n",
       "        app_1_containers  app_2_containers  app_3_containers  \\\n",
       "0                      3                 3                 3   \n",
       "1                      3                 3                 3   \n",
       "2                      3                 3                 3   \n",
       "3                      3                 3                 3   \n",
       "4                      3                 3                 3   \n",
       "...                  ...               ...               ...   \n",
       "141312                 3                 3                 3   \n",
       "141313                 3                 3                 3   \n",
       "141314                 3                 3                 3   \n",
       "141315                 3                 3                 3   \n",
       "141316                 3                 3                 3   \n",
       "\n",
       "        app_4_containers  bias_2  bias_3  bias_4  \n",
       "0                      3   False    True   False  \n",
       "1                      3   False    True   False  \n",
       "2                      3   False   False    True  \n",
       "3                      3   False    True   False  \n",
       "4                      3    True   False   False  \n",
       "...                  ...     ...     ...     ...  \n",
       "141312                 3   False    True   False  \n",
       "141313                 3   False   False    True  \n",
       "141314                 3   False    True   False  \n",
       "141315                 3   False   False    True  \n",
       "141316                 3   False    True   False  \n",
       "\n",
       "[141317 rows x 12 columns]"
      ]
     },
     "execution_count": 15,
     "metadata": {},
     "output_type": "execute_result"
    }
   ],
   "source": [
    "ex_1_df"
   ]
  },
  {
   "cell_type": "code",
   "execution_count": 16,
   "metadata": {},
   "outputs": [
    {
     "data": {
      "text/plain": [
       "bias_2  bias_3  bias_4\n",
       "False   False   True      AxesSubplot(0.125,0.125;0.775x0.755)\n",
       "        True    False     AxesSubplot(0.125,0.125;0.775x0.755)\n",
       "True    False   False     AxesSubplot(0.125,0.125;0.775x0.755)\n",
       "Name: resp_time, dtype: object"
      ]
     },
     "execution_count": 16,
     "metadata": {},
     "output_type": "execute_result"
    },
    {
     "data": {
      "image/png": "[encoded data removed]",
      "text/plain": [
       "<Figure size 432x288 with 1 Axes>"
      ]
     },
     "metadata": {
      "needs_background": "light"
     },
     "output_type": "display_data"
    }
   ],
   "source": [
    "ex_1_df.groupby([\"bias_2\", \"bias_3\", \"bias_4\"]).resp_time.hist()"
   ]
  },
  {
   "cell_type": "code",
   "execution_count": 17,
   "metadata": {},
   "outputs": [
    {
     "data": {
      "text/plain": [
       "<matplotlib.axes._subplots.AxesSubplot at 0x10c7fa510>"
      ]
     },
     "execution_count": 17,
     "metadata": {},
     "output_type": "execute_result"
    },
    {
     "data": {
      "image/png": "[encoded data removed]",
      "text/plain": [
       "<Figure size 432x288 with 1 Axes>"
      ]
     },
     "metadata": {
      "needs_background": "light"
     },
     "output_type": "display_data"
    }
   ],
   "source": [
    "ex_1_df[ex_1_df[\"bias_2\"] == True].resp_time.hist()"
   ]
  },
  {
   "cell_type": "code",
   "execution_count": 18,
   "metadata": {},
   "outputs": [
    {
     "data": {
      "text/plain": [
       "<matplotlib.axes._subplots.AxesSubplot at 0x11b24d4d0>"
      ]
     },
     "execution_count": 18,
     "metadata": {},
     "output_type": "execute_result"
    },
    {
     "data": {
      "image/png": "[encoded data removed]",
      "text/plain": [
       "<Figure size 432x288 with 1 Axes>"
      ]
     },
     "metadata": {
      "needs_background": "light"
     },
     "output_type": "display_data"
    }
   ],
   "source": [
    "ex_1_df[ex_1_df[\"bias_3\"] == True].resp_time.hist()"
   ]
  },
  {
   "cell_type": "code",
   "execution_count": 19,
   "metadata": {},
   "outputs": [
    {
     "data": {
      "text/plain": [
       "<matplotlib.axes._subplots.AxesSubplot at 0x11aacbc50>"
      ]
     },
     "execution_count": 19,
     "metadata": {},
     "output_type": "execute_result"
    },
    {
     "data": {
      "image/png": "[encoded data removed]",
      "text/plain": [
       "<Figure size 432x288 with 1 Axes>"
      ]
     },
     "metadata": {
      "needs_background": "light"
     },
     "output_type": "display_data"
    }
   ],
   "source": [
    "ex_1_df[ex_1_df[\"bias_4\"] == True].resp_time.hist()"
   ]
  },
  {
   "cell_type": "code",
   "execution_count": 20,
   "metadata": {},
   "outputs": [
    {
     "data": {
      "text/plain": [
       "bias_2  bias_3  bias_4\n",
       "False   False   True      AxesSubplot(0.125,0.125;0.775x0.755)\n",
       "        True    False     AxesSubplot(0.125,0.125;0.775x0.755)\n",
       "True    False   False     AxesSubplot(0.125,0.125;0.775x0.755)\n",
       "Name: resp_time, dtype: object"
      ]
     },
     "execution_count": 20,
     "metadata": {},
     "output_type": "execute_result"
    },
    {
     "data": {
      "image/png": "[encoded data removed]",
      "text/plain": [
       "<Figure size 432x288 with 1 Axes>"
      ]
     },
     "metadata": {
      "needs_background": "light"
     },
     "output_type": "display_data"
    }
   ],
   "source": [
    "ex_2_df.groupby([\"bias_2\", \"bias_3\", \"bias_4\"]).resp_time.hist()"
   ]
  },
  {
   "cell_type": "code",
   "execution_count": 21,
   "metadata": {},
   "outputs": [
    {
     "data": {
      "text/plain": [
       "<matplotlib.axes._subplots.AxesSubplot at 0x11e684150>"
      ]
     },
     "execution_count": 21,
     "metadata": {},
     "output_type": "execute_result"
    },
    {
     "data": {
      "image/png": "[encoded data removed]",
      "text/plain": [
       "<Figure size 432x288 with 1 Axes>"
      ]
     },
     "metadata": {
      "needs_background": "light"
     },
     "output_type": "display_data"
    }
   ],
   "source": [
    "ex_2_df[ex_2_df[\"bias_2\"] == True].resp_time.hist()"
   ]
  },
  {
   "cell_type": "code",
   "execution_count": 22,
   "metadata": {},
   "outputs": [
    {
     "data": {
      "text/plain": [
       "<matplotlib.axes._subplots.AxesSubplot at 0x11ea9bc10>"
      ]
     },
     "execution_count": 22,
     "metadata": {},
     "output_type": "execute_result"
    },
    {
     "data": {
      "image/png": "[encoded data removed]",
      "text/plain": [
       "<Figure size 432x288 with 1 Axes>"
      ]
     },
     "metadata": {
      "needs_background": "light"
     },
     "output_type": "display_data"
    }
   ],
   "source": [
    "ex_2_df[ex_2_df[\"bias_3\"] == True].resp_time.hist()"
   ]
  },
  {
   "cell_type": "code",
   "execution_count": 23,
   "metadata": {},
   "outputs": [
    {
     "data": {
      "text/plain": [
       "<matplotlib.axes._subplots.AxesSubplot at 0x120a3ad90>"
      ]
     },
     "execution_count": 23,
     "metadata": {},
     "output_type": "execute_result"
    },
    {
     "data": {
      "image/png": "[encoded data removed]",
      "text/plain": [
       "<Figure size 432x288 with 1 Axes>"
      ]
     },
     "metadata": {
      "needs_background": "light"
     },
     "output_type": "display_data"
    }
   ],
   "source": [
    "ex_2_df[ex_2_df[\"bias_3\"] == True].resp_time.hist()"
   ]
  },
  {
   "cell_type": "code",
   "execution_count": 38,
   "metadata": {},
   "outputs": [],
   "source": [
    "# Error rate"
   ]
  },
  {
   "cell_type": "code",
   "execution_count": 25,
   "metadata": {},
   "outputs": [
    {
     "data": {
      "text/html": [
       "<div>\n",
       "<style scoped>\n",
       "    .dataframe tbody tr th:only-of-type {\n",
       "        vertical-align: middle;\n",
       "    }\n",
       "\n",
       "    .dataframe tbody tr th {\n",
       "        vertical-align: top;\n",
       "    }\n",
       "\n",
       "    .dataframe thead th {\n",
       "        text-align: right;\n",
       "    }\n",
       "</style>\n",
       "<table border=\"1\" class=\"dataframe\">\n",
       "  <thead>\n",
       "    <tr style=\"text-align: right;\">\n",
       "      <th></th>\n",
       "      <th>resp_time</th>\n",
       "      <th>bytes_sent</th>\n",
       "      <th>resp_code</th>\n",
       "      <th>url</th>\n",
       "      <th>datetime</th>\n",
       "      <th>app_1_containers</th>\n",
       "      <th>app_2_containers</th>\n",
       "      <th>app_3_containers</th>\n",
       "      <th>app_4_containers</th>\n",
       "      <th>bias_2</th>\n",
       "      <th>bias_3</th>\n",
       "      <th>bias_4</th>\n",
       "    </tr>\n",
       "  </thead>\n",
       "  <tbody>\n",
       "    <tr>\n",
       "      <td>0</td>\n",
       "      <td>0.113</td>\n",
       "      <td>218</td>\n",
       "      <td>200</td>\n",
       "      <td>/3/3-3-2-2/115</td>\n",
       "      <td>2019-09-23 20:26:34</td>\n",
       "      <td>3</td>\n",
       "      <td>3</td>\n",
       "      <td>3</td>\n",
       "      <td>3</td>\n",
       "      <td>False</td>\n",
       "      <td>True</td>\n",
       "      <td>False</td>\n",
       "    </tr>\n",
       "    <tr>\n",
       "      <td>1</td>\n",
       "      <td>0.108</td>\n",
       "      <td>218</td>\n",
       "      <td>200</td>\n",
       "      <td>/2/3-3-3-3/125</td>\n",
       "      <td>2019-09-23 20:26:34</td>\n",
       "      <td>3</td>\n",
       "      <td>3</td>\n",
       "      <td>3</td>\n",
       "      <td>3</td>\n",
       "      <td>False</td>\n",
       "      <td>True</td>\n",
       "      <td>False</td>\n",
       "    </tr>\n",
       "    <tr>\n",
       "      <td>2</td>\n",
       "      <td>0.352</td>\n",
       "      <td>188</td>\n",
       "      <td>200</td>\n",
       "      <td>/4/4/231</td>\n",
       "      <td>2019-09-23 20:26:34</td>\n",
       "      <td>3</td>\n",
       "      <td>3</td>\n",
       "      <td>3</td>\n",
       "      <td>3</td>\n",
       "      <td>False</td>\n",
       "      <td>False</td>\n",
       "      <td>True</td>\n",
       "    </tr>\n",
       "    <tr>\n",
       "      <td>3</td>\n",
       "      <td>0.037</td>\n",
       "      <td>198</td>\n",
       "      <td>200</td>\n",
       "      <td>/3/3-2/82</td>\n",
       "      <td>2019-09-23 20:26:34</td>\n",
       "      <td>3</td>\n",
       "      <td>3</td>\n",
       "      <td>3</td>\n",
       "      <td>3</td>\n",
       "      <td>False</td>\n",
       "      <td>True</td>\n",
       "      <td>False</td>\n",
       "    </tr>\n",
       "    <tr>\n",
       "      <td>4</td>\n",
       "      <td>0.425</td>\n",
       "      <td>227</td>\n",
       "      <td>200</td>\n",
       "      <td>/2/3-2-3-4-2/94</td>\n",
       "      <td>2019-09-23 20:26:34</td>\n",
       "      <td>3</td>\n",
       "      <td>3</td>\n",
       "      <td>3</td>\n",
       "      <td>3</td>\n",
       "      <td>True</td>\n",
       "      <td>False</td>\n",
       "      <td>False</td>\n",
       "    </tr>\n",
       "    <tr>\n",
       "      <td>...</td>\n",
       "      <td>...</td>\n",
       "      <td>...</td>\n",
       "      <td>...</td>\n",
       "      <td>...</td>\n",
       "      <td>...</td>\n",
       "      <td>...</td>\n",
       "      <td>...</td>\n",
       "      <td>...</td>\n",
       "      <td>...</td>\n",
       "      <td>...</td>\n",
       "      <td>...</td>\n",
       "      <td>...</td>\n",
       "    </tr>\n",
       "    <tr>\n",
       "      <td>141312</td>\n",
       "      <td>14.095</td>\n",
       "      <td>0</td>\n",
       "      <td>499</td>\n",
       "      <td>/2/3-3-3-3/84</td>\n",
       "      <td>2019-09-23 22:42:05</td>\n",
       "      <td>3</td>\n",
       "      <td>3</td>\n",
       "      <td>3</td>\n",
       "      <td>3</td>\n",
       "      <td>False</td>\n",
       "      <td>True</td>\n",
       "      <td>False</td>\n",
       "    </tr>\n",
       "    <tr>\n",
       "      <td>141313</td>\n",
       "      <td>17.632</td>\n",
       "      <td>0</td>\n",
       "      <td>499</td>\n",
       "      <td>/4/3-4-4-3/216</td>\n",
       "      <td>2019-09-23 22:42:05</td>\n",
       "      <td>3</td>\n",
       "      <td>3</td>\n",
       "      <td>3</td>\n",
       "      <td>3</td>\n",
       "      <td>False</td>\n",
       "      <td>False</td>\n",
       "      <td>True</td>\n",
       "    </tr>\n",
       "    <tr>\n",
       "      <td>141314</td>\n",
       "      <td>10.627</td>\n",
       "      <td>0</td>\n",
       "      <td>499</td>\n",
       "      <td>/2/3-4-2-3/152</td>\n",
       "      <td>2019-09-23 22:42:05</td>\n",
       "      <td>3</td>\n",
       "      <td>3</td>\n",
       "      <td>3</td>\n",
       "      <td>3</td>\n",
       "      <td>False</td>\n",
       "      <td>True</td>\n",
       "      <td>False</td>\n",
       "    </tr>\n",
       "    <tr>\n",
       "      <td>141315</td>\n",
       "      <td>28.662</td>\n",
       "      <td>0</td>\n",
       "      <td>499</td>\n",
       "      <td>/3/4-2-3-4/56</td>\n",
       "      <td>2019-09-23 22:42:05</td>\n",
       "      <td>3</td>\n",
       "      <td>3</td>\n",
       "      <td>3</td>\n",
       "      <td>3</td>\n",
       "      <td>False</td>\n",
       "      <td>False</td>\n",
       "      <td>True</td>\n",
       "    </tr>\n",
       "    <tr>\n",
       "      <td>141316</td>\n",
       "      <td>12.560</td>\n",
       "      <td>198</td>\n",
       "      <td>200</td>\n",
       "      <td>/3/3-4/115</td>\n",
       "      <td>2019-09-23 22:42:18</td>\n",
       "      <td>3</td>\n",
       "      <td>3</td>\n",
       "      <td>3</td>\n",
       "      <td>3</td>\n",
       "      <td>False</td>\n",
       "      <td>True</td>\n",
       "      <td>False</td>\n",
       "    </tr>\n",
       "  </tbody>\n",
       "</table>\n",
       "<p>141317 rows × 12 columns</p>\n",
       "</div>"
      ],
      "text/plain": [
       "        resp_time bytes_sent resp_code              url             datetime  \\\n",
       "0           0.113        218       200   /3/3-3-2-2/115  2019-09-23 20:26:34   \n",
       "1           0.108        218       200   /2/3-3-3-3/125  2019-09-23 20:26:34   \n",
       "2           0.352        188       200         /4/4/231  2019-09-23 20:26:34   \n",
       "3           0.037        198       200        /3/3-2/82  2019-09-23 20:26:34   \n",
       "4           0.425        227       200  /2/3-2-3-4-2/94  2019-09-23 20:26:34   \n",
       "...           ...        ...       ...              ...                  ...   \n",
       "141312     14.095          0       499    /2/3-3-3-3/84  2019-09-23 22:42:05   \n",
       "141313     17.632          0       499   /4/3-4-4-3/216  2019-09-23 22:42:05   \n",
       "141314     10.627          0       499   /2/3-4-2-3/152  2019-09-23 22:42:05   \n",
       "141315     28.662          0       499    /3/4-2-3-4/56  2019-09-23 22:42:05   \n",
       "141316     12.560        198       200       /3/3-4/115  2019-09-23 22:42:18   \n",
       "\n",
       "        app_1_containers  app_2_containers  app_3_containers  \\\n",
       "0                      3                 3                 3   \n",
       "1                      3                 3                 3   \n",
       "2                      3                 3                 3   \n",
       "3                      3                 3                 3   \n",
       "4                      3                 3                 3   \n",
       "...                  ...               ...               ...   \n",
       "141312                 3                 3                 3   \n",
       "141313                 3                 3                 3   \n",
       "141314                 3                 3                 3   \n",
       "141315                 3                 3                 3   \n",
       "141316                 3                 3                 3   \n",
       "\n",
       "        app_4_containers  bias_2  bias_3  bias_4  \n",
       "0                      3   False    True   False  \n",
       "1                      3   False    True   False  \n",
       "2                      3   False   False    True  \n",
       "3                      3   False    True   False  \n",
       "4                      3    True   False   False  \n",
       "...                  ...     ...     ...     ...  \n",
       "141312                 3   False    True   False  \n",
       "141313                 3   False   False    True  \n",
       "141314                 3   False    True   False  \n",
       "141315                 3   False   False    True  \n",
       "141316                 3   False    True   False  \n",
       "\n",
       "[141317 rows x 12 columns]"
      ]
     },
     "execution_count": 25,
     "metadata": {},
     "output_type": "execute_result"
    }
   ],
   "source": [
    "ex_1_df"
   ]
  },
  {
   "cell_type": "code",
   "execution_count": 26,
   "metadata": {},
   "outputs": [
    {
     "data": {
      "text/plain": [
       "200    104836\n",
       "110     17372\n",
       "504     17371\n",
       "499      1738\n",
       "Name: resp_code, dtype: int64"
      ]
     },
     "execution_count": 26,
     "metadata": {},
     "output_type": "execute_result"
    }
   ],
   "source": [
    "ex_1_df.resp_code.value_counts()"
   ]
  },
  {
   "cell_type": "code",
   "execution_count": 27,
   "metadata": {},
   "outputs": [
    {
     "data": {
      "text/plain": [
       "200    95120\n",
       "110    18385\n",
       "504    18385\n",
       "499     2189\n",
       "502      134\n",
       "500       62\n",
       "Name: resp_code, dtype: int64"
      ]
     },
     "execution_count": 27,
     "metadata": {},
     "output_type": "execute_result"
    }
   ],
   "source": [
    "ex_2_df.resp_code.value_counts()"
   ]
  }
 ],
 "metadata": {
  "kernelspec": {
   "display_name": ".micro",
   "language": "python",
   "name": ".micro"
  },
  "language_info": {
   "codemirror_mode": {
    "name": "ipython",
    "version": 3
   },
   "file_extension": ".py",
   "mimetype": "text/x-python",
   "name": "python",
   "nbconvert_exporter": "python",
   "pygments_lexer": "ipython3",
   "version": "3.7.4"
  }
 },
 "nbformat": 4,
 "nbformat_minor": 4
}
