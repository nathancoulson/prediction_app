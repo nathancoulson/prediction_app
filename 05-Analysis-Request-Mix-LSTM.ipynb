{
 "cells": [
  {
   "cell_type": "code",
   "execution_count": null,
   "metadata": {},
   "outputs": [],
   "source": [
    "import pandas as pd\n",
    "import pickle\n",
    "from os import listdir\n",
    "from os.path import isfile, join\n",
    "import keras\n",
    "import tensorflow as tf\n",
    "import keras.backend as K\n",
    "\n",
    "pd.set_option('display.max_columns', 999)\n",
    "pd.set_option('display.max_rows', 500)"
   ]
  },
  {
   "cell_type": "code",
   "execution_count": null,
   "metadata": {},
   "outputs": [],
   "source": [
    "mypath = \"./LSTM_results/\"\n",
    "files = [f for f in listdir(mypath) if isfile(join(mypath, f))]"
   ]
  },
  {
   "cell_type": "code",
   "execution_count": null,
   "metadata": {},
   "outputs": [],
   "source": [
    "files"
   ]
  },
  {
   "cell_type": "code",
   "execution_count": null,
   "metadata": {},
   "outputs": [],
   "source": [
    "all_results_list = list()\n",
    "\n",
    "for file in files:\n",
    "    results_p = open(mypath + file,\"rb\")\n",
    "    results_lst = pickle.load(results_p)\n",
    "    all_results_list = all_results_list + results_lst"
   ]
  },
  {
   "cell_type": "code",
   "execution_count": null,
   "metadata": {},
   "outputs": [],
   "source": [
    "all_results_list"
   ]
  },
  {
   "cell_type": "code",
   "execution_count": null,
   "metadata": {},
   "outputs": [],
   "source": [
    "all_results_dict = dict()"
   ]
  },
  {
   "cell_type": "code",
   "execution_count": null,
   "metadata": {},
   "outputs": [],
   "source": [
    "for item in all_results_list:\n",
    "    for k, v in item.items():\n",
    "        model_params = k.split(\"_\")\n",
    "        all_results_dict[(\"_\".join(model_params[0:2]))] = {\n",
    "            model_params[3].split(\":\")[0]: int(model_params[3].split(\":\")[1]),\n",
    "            model_params[4].split(\":\")[0]: int(model_params[4].split(\":\")[1]),\n",
    "            model_params[5].split(\":\")[0]: int(model_params[5].split(\":\")[1]),\n",
    "            model_params[6].split(\":\")[0]: int(model_params[6].split(\":\")[1]),\n",
    "            \"val_loss\": float(v[\"model-history\"][\"val_loss\"][0]),\n",
    "            \"loss\": float(v[\"model-history\"][\"loss\"][0]),\n",
    "            \"MAE-holdout-set\": float(v[\"MAE-holdout-set\"].split()[1]),\n",
    "            \"app-bias-mean-holdout-set\": float(v[\"app-bias-mean-holdout-set\"])\n",
    "        }"
   ]
  },
  {
   "cell_type": "code",
   "execution_count": null,
   "metadata": {},
   "outputs": [],
   "source": [
    "all_results_df = pd.DataFrame(all_results_dict).T"
   ]
  },
  {
   "cell_type": "code",
   "execution_count": null,
   "metadata": {},
   "outputs": [],
   "source": [
    "all_results_df.sort_values(by=[\"app-bias-mean-holdout-set\"])"
   ]
  },
  {
   "cell_type": "code",
   "execution_count": null,
   "metadata": {},
   "outputs": [],
   "source": [
    "def get_model(lst):\n",
    "    for item in lst:\n",
    "        for k, v in item.items():\n",
    "            model_params = k.split(\"_\")\n",
    "            date_stamp = \"_\".join(model_params[0:2])\n",
    "            if date_stamp == \"model2019-09-22_11:54:01.286223\":\n",
    "                return v['model-object']\n",
    "\n",
    "final_model = get_model(all_results_list)\n",
    "print(K.eval(final_model.optimizer.lr))\n",
    "\n",
    "for layer in final_model.layers:\n",
    "    weights = layer.get_weights()\n",
    "    print(weights)"
   ]
  },
  {
   "cell_type": "code",
   "execution_count": null,
   "metadata": {},
   "outputs": [],
   "source": [
    "with open('./Models/LSTM_model_results.pkl', 'wb') as f:\n",
    "    pickle.dump(all_results_df, f)\n",
    "\n",
    "with open('./Models/LSTM_model.pkl', 'wb') as f:\n",
    "    pickle.dump(final_model, f)"
   ]
  }
 ],
 "metadata": {
  "kernelspec": {
   "display_name": ".micro",
   "language": "python",
   "name": ".micro"
  },
  "language_info": {
   "codemirror_mode": {
    "name": "ipython",
    "version": 3
   },
   "file_extension": ".py",
   "mimetype": "text/x-python",
   "name": "python",
   "nbconvert_exporter": "python",
   "pygments_lexer": "ipython3",
   "version": "3.7.4"
  }
 },
 "nbformat": 4,
 "nbformat_minor": 4
}
