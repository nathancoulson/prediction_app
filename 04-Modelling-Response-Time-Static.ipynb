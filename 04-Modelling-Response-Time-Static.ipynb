{
 "cells": [
  {
   "cell_type": "code",
   "execution_count": null,
   "metadata": {},
   "outputs": [],
   "source": [
    "import pandas as pd\n",
    "import os\n",
    "import sys\n",
    "import numpy as np\n",
    "import matplotlib.pyplot as plt\n",
    "import datetime\n",
    "from sklearn.model_selection import train_test_split\n",
    "from sklearn.linear_model import LinearRegression\n",
    "from sklearn.ensemble import RandomForestRegressor\n",
    "from sklearn.metrics import mean_absolute_error \n",
    "from sklearn.metrics import mean_squared_error\n",
    "from sklearn.preprocessing import MinMaxScaler\n",
    "import re\n",
    "\n",
    "pd.set_option('display.max_columns', 999)\n",
    "pd.set_option('display.max_rows', 500)"
   ]
  },
  {
   "cell_type": "markdown",
   "metadata": {},
   "source": [
    "# Run multiple supervised models on static (whole) dataset"
   ]
  },
  {
   "cell_type": "code",
   "execution_count": null,
   "metadata": {},
   "outputs": [],
   "source": [
    "# import and prepare data\n",
    "\n",
    "path = './Datasets/'\n",
    "\n",
    "log_df = pd.read_parquet(path + \"logs.parquet\")\n",
    "\n",
    "# Note: deleting all logs without a response time (errors) - this loses key information but should simplify the problem while preserving the basic relationship\n",
    "\n",
    "log_df.dropna(inplace=True)\n",
    "\n",
    "# Feature transformations\n",
    "\n",
    "# Convert resp_time and bytes_setn into float\n",
    "\n",
    "log_df.resp_time = log_df.resp_time.astype(\"float\")\n",
    "log_df.bytes_sent = log_df.bytes_sent.astype(\"float\")\n",
    "\n",
    "app_cols = [col for col in log_df.columns if \"app_\" in col]\n",
    "\n",
    "# Scale key cols between 0 and 1\n",
    "\n",
    "log_df[\"resp_time\"] = MinMaxScaler().fit_transform(log_df[[\"resp_time\"]])\n",
    "log_df[app_cols] = MinMaxScaler().fit_transform(log_df[app_cols])\n",
    "\n",
    "log_df.drop(columns=[\"bytes_sent\", \"resp_code\", \"url\", \"datetime\"], inplace=True)"
   ]
  },
  {
   "cell_type": "code",
   "execution_count": null,
   "metadata": {},
   "outputs": [],
   "source": [
    "# Prepare modelling tables\n",
    "\n",
    "y = log_df.resp_time\n",
    "\n",
    "X = log_df.drop(columns=[\"resp_time\"])\n",
    "\n",
    "X_train, X_test, y_train, y_test = train_test_split(X, y, test_size=0.30, random_state=42)\n",
    "\n",
    "X_train = np.ascontiguousarray(X_train)\n",
    "y_train = np.ascontiguousarray(y_train)\n",
    "\n",
    "X_test = np.ascontiguousarray(X_test)\n",
    "y_test = np.ascontiguousarray(y_test)"
   ]
  },
  {
   "cell_type": "code",
   "execution_count": null,
   "metadata": {},
   "outputs": [],
   "source": [
    "# Linear regression\n",
    "\n",
    "model = LinearRegression()\n",
    "\n",
    "model.fit(X_train, y_train)\n",
    "\n",
    "y_pred = model.predict(X_test)\n",
    "\n",
    "models_dict = {\n",
    "    'Mean Absolute Error': mean_absolute_error(y_test, y_pred),\n",
    "    'Mean Squared Error': mean_squared_error(y_test, y_pred),\n",
    "    'Root Mean Squared Error': np.sqrt(mean_squared_error(y_test, y_pred)),\n",
    "    \"Datetime\": \"_\".join(str(datetime.datetime.now()).split()),\n",
    "    \"Coefficients\": model.coef_\n",
    "}\n",
    "\n",
    "print(models_dict)"
   ]
  },
  {
   "cell_type": "code",
   "execution_count": null,
   "metadata": {},
   "outputs": [],
   "source": [
    "for k, v in models_dict.items():\n",
    "    print(k)\n",
    "    print(v)"
   ]
  },
  {
   "cell_type": "code",
   "execution_count": null,
   "metadata": {},
   "outputs": [],
   "source": [
    "# Random forest\n",
    "\n",
    "model = RandomForestRegressor(max_depth=5, max_features=\"sqrt\",  n_jobs=-1, n_estimators= 300)\n",
    "model.fit(X_train, y_train)\n",
    "\n",
    "y_pred = model.predict(X_test)\n",
    "\n",
    "models_dict = {\n",
    "    'Mean Absolute Error': mean_absolute_error(y_test, y_pred),\n",
    "    'Mean Squared Error': mean_squared_error(y_test, y_pred),\n",
    "    'Root Mean Squared Error': np.sqrt(mean_squared_error(y_test, y_pred)),\n",
    "    \"Datetime\": \"_\".join(str(datetime.datetime.now()).split()),\n",
    "    \"Feature importances\": model.feature_importances_\n",
    "}\n",
    "\n",
    "print(models_dict)"
   ]
  },
  {
   "cell_type": "code",
   "execution_count": null,
   "metadata": {},
   "outputs": [],
   "source": [
    "for k, v in models_dict.items():\n",
    "    print(k)\n",
    "    print(v)"
   ]
  }
 ],
 "metadata": {
  "kernelspec": {
   "display_name": ".micro",
   "language": "python",
   "name": ".micro"
  },
  "language_info": {
   "codemirror_mode": {
    "name": "ipython",
    "version": 3
   },
   "file_extension": ".py",
   "mimetype": "text/x-python",
   "name": "python",
   "nbconvert_exporter": "python",
   "pygments_lexer": "ipython3",
   "version": "3.7.4"
  }
 },
 "nbformat": 4,
 "nbformat_minor": 4
}
